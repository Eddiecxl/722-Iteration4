{
 "cells": [
  {
   "cell_type": "markdown",
   "id": "8e83f373",
   "metadata": {},
   "source": [
    "# 3.3 Construct the Data"
   ]
  },
  {
   "cell_type": "code",
   "execution_count": 1,
   "id": "0dae30ca",
   "metadata": {},
   "outputs": [
    {
     "name": "stderr",
     "output_type": "stream",
     "text": [
      "WARNING: An illegal reflective access operation has occurred\n",
      "WARNING: Illegal reflective access by org.apache.spark.unsafe.Platform (file:/home/ubuntu/.local/lib/python3.10/site-packages/pyspark/jars/spark-unsafe_2.12-3.2.1.jar) to constructor java.nio.DirectByteBuffer(long,int)\n",
      "WARNING: Please consider reporting this to the maintainers of org.apache.spark.unsafe.Platform\n",
      "WARNING: Use --illegal-access=warn to enable warnings of further illegal reflective access operations\n",
      "WARNING: All illegal access operations will be denied in a future release\n",
      "Using Spark's default log4j profile: org/apache/spark/log4j-defaults.properties\n",
      "Setting default log level to \"WARN\".\n",
      "To adjust logging level use sc.setLogLevel(newLevel). For SparkR, use setLogLevel(newLevel).\n",
      "24/05/23 11:51:47 WARN NativeCodeLoader: Unable to load native-hadoop library for your platform... using builtin-java classes where applicable\n",
      "24/05/23 11:51:48 WARN Utils: Service 'SparkUI' could not bind on port 4040. Attempting port 4041.\n",
      "24/05/23 11:51:48 WARN Utils: Service 'SparkUI' could not bind on port 4041. Attempting port 4042.\n"
     ]
    }
   ],
   "source": [
    "import pyspark\n",
    "from pyspark.sql.functions import col, count, isnan, when\n",
    "from pyspark.sql import SparkSession\n",
    "spark = SparkSession.builder \\\n",
    "    .appName(\"PySpark in Jupyter\") \\\n",
    "    .getOrCreate()"
   ]
  },
  {
   "cell_type": "code",
   "execution_count": 2,
   "id": "070fdcf6",
   "metadata": {},
   "outputs": [],
   "source": [
    "df = spark.read.csv('Dataset/df_new_3.csv', header=True, inferSchema=True)"
   ]
  },
  {
   "cell_type": "code",
   "execution_count": 3,
   "id": "cc4ceb9e",
   "metadata": {},
   "outputs": [
    {
     "name": "stdout",
     "output_type": "stream",
     "text": [
      "+----------------+---------------+\n",
      "| Education_Level|Education_Group|\n",
      "+----------------+---------------+\n",
      "|  Primary School|         Low Ed|\n",
      "|  Primary School|         Low Ed|\n",
      "|  Primary School|         Low Ed|\n",
      "|  Primary School|         Low Ed|\n",
      "|  Diploma/Degree|        High Ed|\n",
      "|Secondary School|         Low Ed|\n",
      "|Secondary School|         Low Ed|\n",
      "|Secondary School|         Low Ed|\n",
      "|  Primary School|         Low Ed|\n",
      "|Secondary School|         Low Ed|\n",
      "|Secondary School|         Low Ed|\n",
      "|  Primary School|         Low Ed|\n",
      "|Secondary School|         Low Ed|\n",
      "|  Diploma/Degree|        High Ed|\n",
      "|Secondary School|         Low Ed|\n",
      "|Secondary School|         Low Ed|\n",
      "|Secondary School|         Low Ed|\n",
      "|Secondary School|         Low Ed|\n",
      "|  Diploma/Degree|        High Ed|\n",
      "|  Diploma/Degree|        High Ed|\n",
      "+----------------+---------------+\n",
      "only showing top 20 rows\n",
      "\n"
     ]
    }
   ],
   "source": [
    "from pyspark.sql.functions import when\n",
    "\n",
    "# Define conditions and apply them using when\n",
    "df_grouped = df.withColumn(\"Education_Group\", \n",
    "                           when((col(\"Education_Level\") == \"Primary School\") | \n",
    "                                (col(\"Education_Level\") == \"Secondary School\"), \"Low Ed\")\n",
    "                           .otherwise(\"High Ed\"))\n",
    "\n",
    "# Show the result\n",
    "df_grouped.select(\"Education_Level\", \"Education_Group\").show()\n"
   ]
  },
  {
   "cell_type": "code",
   "execution_count": 4,
   "id": "de54f03a",
   "metadata": {},
   "outputs": [
    {
     "name": "stdout",
     "output_type": "stream",
     "text": [
      "DataFrame Summary:\n",
      "Total Rows     : 1000\n",
      "Total Columns  : 20\n",
      "\n",
      "DataFrame Schema:\n",
      "Column                    Non-Null Count  Null Count Dtype     \n",
      "------------------------------------------------------------\n",
      "Diabetic                  1000            0          double    \n",
      "AlcoholLevel              1000            0          double    \n",
      "HeartRate                 1000            0          double    \n",
      "BodyTemperature           1000            0          double    \n",
      "Weight                    1000            0          double    \n",
      "MRI_Delay                 1000            0          double    \n",
      "Age                       1000            0          double    \n",
      "Education_Level           1000            0          string    \n",
      "Gender                    1000            0          string    \n",
      "Family_History            1000            0          string    \n",
      "Smoking_Status            1000            0          string    \n",
      "APOE_ε4                   1000            0          string    \n",
      "Physical_Activity         1000            0          string    \n",
      "Depression_Status         1000            0          string    \n",
      "Cognitive_Test_Scores     1000            0          double    \n",
      "Nutrition_Diet            1000            0          string    \n",
      "Sleep_Quality             1000            0          string    \n",
      "Chronic_Health_Conditions 1000            0          string    \n",
      "Dementia                  1000            0          double    \n",
      "Education_Group           1000            0          string    \n"
     ]
    }
   ],
   "source": [
    "def spark_info(df):\n",
    "    # Get the schema of the DataFrame\n",
    "    schema = df.schema\n",
    "    \n",
    "    # Create a list to hold column information\n",
    "    columns_info = []\n",
    "    \n",
    "    # Iterate through the schema to get column information\n",
    "    for field in schema:\n",
    "        column_name = field.name\n",
    "        column_type = field.dataType.simpleString()\n",
    "        \n",
    "        # Count non-null values\n",
    "        non_null_count = df.filter(col(column_name).isNotNull()).count()\n",
    "        \n",
    "        # Count null values\n",
    "        null_count = df.filter(col(column_name).isNull() | isnan(col(column_name))).count()\n",
    "        \n",
    "        columns_info.append((column_name, column_type, non_null_count, null_count))\n",
    "    \n",
    "    # Display the DataFrame schema and summary\n",
    "    total_rows = df.count()\n",
    "    total_columns = len(schema)\n",
    "    \n",
    "    # Print the summary table\n",
    "    print(f\"DataFrame Summary:\")\n",
    "    print(f\"{'Total Rows':<15}: {total_rows}\")\n",
    "    print(f\"{'Total Columns':<15}: {total_columns}\")\n",
    "    print(\"\\nDataFrame Schema:\")\n",
    "    print(f\"{'Column':<25} {'Non-Null Count':<15} {'Null Count':<10} {'Dtype':<10}\")\n",
    "    print(\"-\" * 60)\n",
    "    for column_info in columns_info:\n",
    "        print(f\"{column_info[0]:<25} {column_info[2]:<15} {column_info[3]:<10} {column_info[1]:<10}\")\n",
    "\n",
    "# Call the function to describe the DataFrame\n",
    "spark_info(df_grouped)\n"
   ]
  },
  {
   "cell_type": "code",
   "execution_count": 5,
   "id": "3643fe95",
   "metadata": {},
   "outputs": [
    {
     "data": {
      "image/png": "[encoded data removed]",
      "text/plain": [
       "<Figure size 864x432 with 2 Axes>"
      ]
     },
     "metadata": {
      "needs_background": "light"
     },
     "output_type": "display_data"
    }
   ],
   "source": [
    "import matplotlib.pyplot as plt\n",
    "\n",
    "# Collect the counts of each education level in df_grouped\n",
    "education_group_counts = df_grouped.groupBy(\"Education_Group\").count().collect()\n",
    "# Collect the counts of each education level in df_grouped\n",
    "education_level_counts = df_grouped.groupBy(\"Education_Level\").count().collect()\n",
    "\n",
    "# Extract education groups and their corresponding counts\n",
    "education_group_levels = [row[\"Education_Group\"] for row in education_group_counts]\n",
    "education_group_counts = [row[\"count\"] for row in education_group_counts]\n",
    "\n",
    "# Extract education groups and their corresponding counts\n",
    "education_levels = [row[\"Education_Level\"] for row in education_level_counts]\n",
    "education_counts = [row[\"count\"] for row in education_level_counts]\n",
    "\n",
    "# Plot the histograms\n",
    "fig, axs = plt.subplots(1, 2, figsize=(12, 6))\n",
    "\n",
    "# Plot histogram for Education_Level\n",
    "axs[0].bar(education_levels, education_counts, color='skyblue')\n",
    "axs[0].set_xlabel('Education Level')\n",
    "axs[0].set_ylabel('Count')\n",
    "axs[0].set_title('Histogram of Education Level')\n",
    "axs[0].tick_params(axis='x', rotation=45)\n",
    "axs[0].grid(axis='y', linestyle='--', alpha=0.7)\n",
    "\n",
    "# Plot histogram for Education_Group\n",
    "axs[1].bar(education_group_levels, education_group_counts, color='lightgreen')\n",
    "axs[1].set_xlabel('Education Group')\n",
    "axs[1].set_ylabel('Count')\n",
    "axs[1].set_title('Histogram of Education Group')\n",
    "axs[1].tick_params(axis='x', rotation=45)\n",
    "axs[1].grid(axis='y', linestyle='--', alpha=0.7)\n",
    "\n",
    "plt.tight_layout()\n",
    "plt.show()\n"
   ]
  },
  {
   "cell_type": "code",
   "execution_count": 6,
   "id": "12212474",
   "metadata": {},
   "outputs": [
    {
     "name": "stdout",
     "output_type": "stream",
     "text": [
      "Education Level\t| Percentage\n",
      "------------------------------\n",
      "Secondary School| 47.00%\n",
      "Primary School| 40.20%\n",
      "Diploma/Degree| 12.80%\n"
     ]
    }
   ],
   "source": [
    "# Calculate the total number of individuals\n",
    "total_individuals = df_grouped.count()\n",
    "\n",
    "# Collect the counts of each education level in df_grouped\n",
    "education_level_counts = df_grouped.groupBy(\"Education_Level\").count().collect()\n",
    "\n",
    "# Calculate and display the percentages for each education level\n",
    "print(\"Education Level\\t| Percentage\")\n",
    "print(\"-\" * 30)\n",
    "for row in education_level_counts:\n",
    "    education_level = row[\"Education_Level\"]\n",
    "    count = row[\"count\"]\n",
    "    percentage = (count / total_individuals) * 100\n",
    "    print(f\"{education_level}| {percentage:.2f}%\")\n"
   ]
  },
  {
   "cell_type": "code",
   "execution_count": 7,
   "id": "cbe01d5a",
   "metadata": {},
   "outputs": [
    {
     "name": "stderr",
     "output_type": "stream",
     "text": [
      "\r",
      "[Stage 152:=====================>                                   (3 + 2) / 8]\r"
     ]
    },
    {
     "name": "stdout",
     "output_type": "stream",
     "text": [
      "Total count of rows: 1726\n"
     ]
    },
    {
     "name": "stderr",
     "output_type": "stream",
     "text": [
      "\r",
      "                                                                                \r"
     ]
    }
   ],
   "source": [
    "from pyspark.sql import SparkSession\n",
    "from pyspark.sql.functions import lit\n",
    "\n",
    "# Initialize SparkSession\n",
    "spark = SparkSession.builder \\\n",
    "    .appName(\"Boosting Dataset\") \\\n",
    "    .getOrCreate()\n",
    "\n",
    "\n",
    "# Desired percentages for each education level\n",
    "desired_percentages = {\n",
    "    \"Primary School\": 0.50,\n",
    "    \"Secondary School\": 0.48,\n",
    "    \"Diploma/Degree\": 0.45\n",
    "}\n",
    "\n",
    "# Total number of rows desired in the boosted dataset\n",
    "total_rows_desired = 1500  # For example, if you want more than 1000 rows\n",
    "\n",
    "# Calculate the desired counts for each education level\n",
    "desired_counts = {level: int(total_rows_desired * percentage) for level, percentage in desired_percentages.items()}\n",
    "\n",
    "# Create an empty DataFrame with the same schema as df_grouped\n",
    "boosted_df = spark.createDataFrame([], df_grouped.schema)\n",
    "\n",
    "# Create new rows for each education level and union with the original DataFrame\n",
    "for level, count in desired_counts.items():\n",
    "    # Filter the original DataFrame for the current education level\n",
    "    level_df = df_grouped.filter(df_grouped[\"Education_Level\"] == level)\n",
    "    \n",
    "    # Duplicate rows to achieve the desired count\n",
    "    duplicated_rows = level_df.limit(count - level_df.count())\n",
    "    \n",
    "    # Union the original DataFrame with the duplicated rows\n",
    "    boosted_df = boosted_df.union(level_df.union(duplicated_rows))\n",
    "\n",
    "# Show the boosted DataFrame\n",
    "# Count the total number of rows in the DataFrame\n",
    "total_count = boosted_df.count()\n",
    "\n",
    "# Display the total count\n",
    "print(\"Total count of rows:\", total_count)\n",
    "\n"
   ]
  },
  {
   "cell_type": "code",
   "execution_count": 8,
   "id": "0a7f695e",
   "metadata": {},
   "outputs": [
    {
     "name": "stdout",
     "output_type": "stream",
     "text": [
      "DataFrame Summary:\n",
      "Total Rows     : 1726\n",
      "Total Columns  : 20\n",
      "\n",
      "DataFrame Schema:\n",
      "Column                    Non-Null Count  Null Count Dtype     \n",
      "------------------------------------------------------------\n",
      "Diabetic                  1726            0          double    \n",
      "AlcoholLevel              1726            0          double    \n",
      "HeartRate                 1726            0          double    \n",
      "BodyTemperature           1726            0          double    \n",
      "Weight                    1726            0          double    \n",
      "MRI_Delay                 1726            0          double    \n",
      "Age                       1726            0          double    \n",
      "Education_Level           1726            0          string    \n",
      "Gender                    1726            0          string    \n",
      "Family_History            1726            0          string    \n",
      "Smoking_Status            1726            0          string    \n",
      "APOE_ε4                   1726            0          string    \n",
      "Physical_Activity         1726            0          string    \n",
      "Depression_Status         1726            0          string    \n",
      "Cognitive_Test_Scores     1726            0          double    \n",
      "Nutrition_Diet            1726            0          string    \n",
      "Sleep_Quality             1726            0          string    \n",
      "Chronic_Health_Conditions 1726            0          string    \n",
      "Dementia                  1726            0          double    \n",
      "Education_Group           1726            0          string    \n"
     ]
    }
   ],
   "source": [
    "def spark_info(df):\n",
    "    # Get the schema of the DataFrame\n",
    "    schema = boosted_df.schema\n",
    "    \n",
    "    # Create a list to hold column information\n",
    "    columns_info = []\n",
    "    \n",
    "    # Iterate through the schema to get column information\n",
    "    for field in schema:\n",
    "        column_name = field.name\n",
    "        column_type = field.dataType.simpleString()\n",
    "        \n",
    "        # Count non-null values\n",
    "        non_null_count = boosted_df.filter(col(column_name).isNotNull()).count()\n",
    "        \n",
    "        # Count null values\n",
    "        null_count = boosted_df.filter(col(column_name).isNull() | isnan(col(column_name))).count()\n",
    "        \n",
    "        columns_info.append((column_name, column_type, non_null_count, null_count))\n",
    "    \n",
    "    # Display the DataFrame schema and summary\n",
    "    total_rows = boosted_df.count()\n",
    "    total_columns = len(schema)\n",
    "    \n",
    "    # Print the summary table\n",
    "    print(f\"DataFrame Summary:\")\n",
    "    print(f\"{'Total Rows':<15}: {total_rows}\")\n",
    "    print(f\"{'Total Columns':<15}: {total_columns}\")\n",
    "    print(\"\\nDataFrame Schema:\")\n",
    "    print(f\"{'Column':<25} {'Non-Null Count':<15} {'Null Count':<10} {'Dtype':<10}\")\n",
    "    print(\"-\" * 60)\n",
    "    for column_info in columns_info:\n",
    "        print(f\"{column_info[0]:<25} {column_info[2]:<15} {column_info[3]:<10} {column_info[1]:<10}\")\n",
    "\n",
    "# Call the function to describe the DataFrame\n",
    "spark_info(boosted_df)\n"
   ]
  },
  {
   "cell_type": "code",
   "execution_count": 9,
   "id": "5cce4aae",
   "metadata": {},
   "outputs": [
    {
     "name": "stdout",
     "output_type": "stream",
     "text": [
      "+--------+------------+---------+------------------+------------+-----------+----+---------------+------+--------------+--------------+--------+-----------------+-----------------+---------------------+------------------+-------------+-------------------------+--------+---------------+\n",
      "|Diabetic|AlcoholLevel|HeartRate|   BodyTemperature|      Weight|  MRI_Delay| Age|Education_Level|Gender|Family_History|Smoking_Status| APOE_ε4|Physical_Activity|Depression_Status|Cognitive_Test_Scores|    Nutrition_Diet|Sleep_Quality|Chronic_Health_Conditions|Dementia|Education_Group|\n",
      "+--------+------------+---------+------------------+------------+-----------+----+---------------+------+--------------+--------------+--------+-----------------+-----------------+---------------------+------------------+-------------+-------------------------+--------+---------------+\n",
      "|     1.0| 0.084973629|     98.0|       36.22485168| 57.56397754|36.42102798|60.0| Primary School|Female|            No|Current Smoker|Negative|        Sedentary|               No|                 10.0|     Low-Carb Diet|         Poor|                 Diabetes|     0.0|         Low Ed|\n",
      "|     0.0| 0.016972773|     78.0|       36.18387372| 56.83233533|31.15763321|61.0| Primary School|  Male|            No| Former Smoker|Positive|Moderate Activity|               No|                  1.0|     Low-Carb Diet|         Poor|            Heart Disease|     1.0|         Low Ed|\n",
      "|     0.0|  0.00900025|     89.0|       37.32632078| 59.75906557|37.64043545|69.0| Primary School|  Male|           Yes| Former Smoker|Negative|Moderate Activity|               No|                  8.0|Mediterranean Diet|         Poor|            Heart Disease|     0.0|         Low Ed|\n",
      "|     0.0|  0.08643726|     60.0|       37.03061991| 58.26647094|50.67399181|78.0| Primary School|Female|           Yes|  Never Smoked|Negative|    Mild Activity|              Yes|                  5.0|     Balanced Diet|         Poor|             Hypertension|     1.0|         Low Ed|\n",
      "|     0.0| 0.015754249|     69.0|       36.95525851| 53.72507846|36.62968689|66.0| Primary School|Female|            No| Former Smoker|Positive|    Mild Activity|               No|                 10.0|Mediterranean Diet|         Poor|              Not healthy|     0.0|         Low Ed|\n",
      "|     0.0| 0.082671231|     93.0|        36.5104785|124.81816464|34.23731011|69.0| Primary School|  Male|            No| Former Smoker|Positive|    Mild Activity|               No|                  8.0|     Balanced Diet|         Good|             Hypertension|     0.0|         Low Ed|\n",
      "|     0.0| 0.092342225|     69.0|       37.13423421| 55.45003325|21.91321839|73.0| Primary School|Female|            No| Former Smoker|Positive|Moderate Activity|               No|                  0.0|     Balanced Diet|         Poor|            Heart Disease|     1.0|         Low Ed|\n",
      "|     1.0| 0.155994199|     77.0|       36.75595886| 64.59469836|24.79244843|75.0| Primary School|  Male|           Yes|  Never Smoked|Positive|Moderate Activity|               No|                  9.0|     Balanced Diet|         Poor|                 Diabetes|     0.0|         Low Ed|\n",
      "|     0.0| 0.105560503|     66.0|        36.8181653| 80.21100495|33.35714158|69.0| Primary School|  Male|            No|  Never Smoked|Positive|        Sedentary|               No|                  9.0|     Balanced Diet|         Good|            Heart Disease|     0.0|         Low Ed|\n",
      "|     0.0| 0.052612734|     74.0|       36.24130265| 50.80480082|16.10706559|88.0| Primary School|  Male|            No| Former Smoker|Positive|    Mild Activity|              Yes|                  3.0|Mediterranean Diet|         Poor|              Not healthy|     1.0|         Low Ed|\n",
      "|     0.0| 0.141321097|     87.0|       36.55439078| 64.13625366|29.39000379|60.0| Primary School|Female|           Yes| Former Smoker|Positive|Moderate Activity|               No|                  8.0|     Low-Carb Diet|         Good|              Not healthy|     0.0|         Low Ed|\n",
      "|     1.0| 0.189437302|     67.0|       37.06559817| 66.85323858|26.27401601|63.0| Primary School|Female|           Yes|  Never Smoked|Positive|    Mild Activity|               No|                  5.0|     Balanced Diet|         Good|                 Diabetes|     1.0|         Low Ed|\n",
      "|     1.0|  0.16636984|     83.0|       36.94383723| 63.73845262|28.73667725|83.0| Primary School|Female|           Yes| Former Smoker|Positive|        Sedentary|              Yes|                  1.0|Mediterranean Diet|         Poor|                 Diabetes|     1.0|         Low Ed|\n",
      "|     0.0|  0.13061763|     71.0|        36.1485966| 76.29335567|46.10798833|69.0| Primary School|  Male|           Yes|  Never Smoked|Negative|    Mild Activity|               No|                  8.0|Mediterranean Diet|         Good|              Not healthy|     0.0|         Low Ed|\n",
      "|     0.0| 0.150087744|     70.0|       36.67295288| 99.68350139|41.76456583|83.0| Primary School|Female|           Yes|  Never Smoked|Positive|        Sedentary|              Yes|                  4.0|     Low-Carb Diet|         Poor|             Hypertension|     1.0|         Low Ed|\n",
      "|     0.0|  0.09992415|     61.0|38.230790559999996| 62.41025505|9.414670868|63.0| Primary School|Female|            No| Former Smoker|Positive|    Mild Activity|               No|                  9.0|     Balanced Diet|         Poor|              Not healthy|     0.0|         Low Ed|\n",
      "|     0.0| 0.109911381|     90.0|        36.9598651| 66.71335528|  30.156605|79.0| Primary School|  Male|           Yes| Former Smoker|Negative|    Mild Activity|               No|                  8.0|Mediterranean Diet|         Good|            Heart Disease|     0.0|         Low Ed|\n",
      "|     1.0| 0.146173839|     85.0|       36.85638375|  54.2737138|21.27714559|61.0| Primary School|  Male|           Yes| Former Smoker|Positive|    Mild Activity|               No|                  5.0|     Low-Carb Diet|         Good|                 Diabetes|     1.0|         Low Ed|\n",
      "|     0.0| 0.190784542|     61.0|       36.56133506| 74.24871232|0.336485278|65.0| Primary School|Female|            No| Former Smoker|Positive|Moderate Activity|               No|                  0.0|Mediterranean Diet|         Poor|             Hypertension|     1.0|         Low Ed|\n",
      "|     0.0| 0.073214833|     70.0|       37.03394513| 79.97122456|48.26832718|62.0| Primary School|Female|            No| Former Smoker|Positive|        Sedentary|               No|                  0.0|     Low-Carb Diet|         Poor|             Hypertension|     1.0|         Low Ed|\n",
      "+--------+------------+---------+------------------+------------+-----------+----+---------------+------+--------------+--------------+--------+-----------------+-----------------+---------------------+------------------+-------------+-------------------------+--------+---------------+\n",
      "only showing top 20 rows\n",
      "\n",
      "Total number of rows in boosted DataFrame: 1726\n"
     ]
    }
   ],
   "source": [
    "# Show a sample of the boosted DataFrame\n",
    "boosted_df.show()\n",
    "\n",
    "# Count the total number of rows in the boosted DataFrame\n",
    "total_rows = boosted_df.count()\n",
    "print(\"Total number of rows in boosted DataFrame:\", total_rows)"
   ]
  },
  {
   "cell_type": "code",
   "execution_count": 10,
   "id": "a0eae452",
   "metadata": {},
   "outputs": [
    {
     "data": {
      "image/png": "[encoded data removed]",
      "text/plain": [
       "<Figure size 864x432 with 2 Axes>"
      ]
     },
     "metadata": {
      "needs_background": "light"
     },
     "output_type": "display_data"
    }
   ],
   "source": [
    "import matplotlib.pyplot as plt\n",
    "\n",
    "# Collect the counts of each education level in boosted_df\n",
    "boosted_education_group_counts = boosted_df.groupBy(\"Education_Group\").count().collect()\n",
    "boosted_education_level_counts = boosted_df.groupBy(\"Education_Level\").count().collect()\n",
    "\n",
    "# Extract education groups and their corresponding counts\n",
    "boosted_education_group_levels = [row[\"Education_Group\"] for row in boosted_education_group_counts]\n",
    "boosted_education_group_counts = [row[\"count\"] for row in boosted_education_group_counts]\n",
    "\n",
    "# Extract education levels and their corresponding counts\n",
    "boosted_education_levels = [row[\"Education_Level\"] for row in boosted_education_level_counts]\n",
    "boosted_education_counts = [row[\"count\"] for row in boosted_education_level_counts]\n",
    "\n",
    "# Calculate total count for boosted_df\n",
    "total_boosted_count = boosted_df.count()\n",
    "\n",
    "# Convert counts to percentages\n",
    "boosted_education_group_percentages = [count / total_boosted_count * 100 for count in boosted_education_group_counts]\n",
    "boosted_education_percentages = [count / total_boosted_count * 100 for count in boosted_education_counts]\n",
    "\n",
    "# Plot the histograms\n",
    "fig, axs = plt.subplots(1, 2, figsize=(12, 6))\n",
    "\n",
    "# Plot histogram for Education_Level\n",
    "axs[0].bar(boosted_education_levels, boosted_education_percentages, color='skyblue')\n",
    "axs[0].set_xlabel('Education Level')\n",
    "axs[0].set_ylabel('Percentage')\n",
    "axs[0].set_title('Histogram of Education Level (Boosted)')\n",
    "axs[0].tick_params(axis='x', rotation=45)\n",
    "axs[0].grid(axis='y', linestyle='--', alpha=0.7)\n",
    "\n",
    "# Plot histogram for Education_Group\n",
    "axs[1].bar(boosted_education_group_levels, boosted_education_group_percentages, color='lightgreen')\n",
    "axs[1].set_xlabel('Education Group')\n",
    "axs[1].set_ylabel('Percentage')\n",
    "axs[1].set_title('Histogram of Education Group (Boosted)')\n",
    "axs[1].tick_params(axis='x', rotation=45)\n",
    "axs[1].grid(axis='y', linestyle='--', alpha=0.7)\n",
    "\n",
    "plt.tight_layout()\n",
    "plt.show()\n"
   ]
  },
  {
   "cell_type": "code",
   "execution_count": 11,
   "id": "11a1d4ee",
   "metadata": {},
   "outputs": [
    {
     "name": "stdout",
     "output_type": "stream",
     "text": [
      "Education Level\t| Percentage\n",
      "------------------------------\n",
      "Primary School\t| 43.45%\n",
      "Secondary School\t| 41.71%\n",
      "Diploma/Degree\t| 14.83%\n"
     ]
    }
   ],
   "source": [
    "# Calculate the total number of individuals in the boosted_df DataFrame\n",
    "total_individuals_boosted = boosted_df.count()\n",
    "\n",
    "# Collect the counts of each education level in boosted_df\n",
    "education_level_counts_boosted = boosted_df.groupBy(\"Education_Level\").count().collect()\n",
    "\n",
    "# Calculate and display the percentages for each education level in boosted_df\n",
    "print(\"Education Level\\t| Percentage\")\n",
    "print(\"-\" * 30)\n",
    "for row in education_level_counts_boosted:\n",
    "    education_level = row[\"Education_Level\"]\n",
    "    count = row[\"count\"]\n",
    "    percentage = (count / total_individuals_boosted) * 100\n",
    "    print(f\"{education_level}\\t| {percentage:.2f}%\")\n"
   ]
  },
  {
   "cell_type": "code",
   "execution_count": 12,
   "id": "b6fd76e2",
   "metadata": {
    "scrolled": false
   },
   "outputs": [
    {
     "data": {
      "image/png": "[encoded data removed]",
      "text/plain": [
       "<Figure size 864x720 with 4 Axes>"
      ]
     },
     "metadata": {
      "needs_background": "light"
     },
     "output_type": "display_data"
    }
   ],
   "source": [
    "import matplotlib.pyplot as plt\n",
    "\n",
    "# Calculate percentages of dementia for df_grouped\n",
    "dementia_counts_grouped = df_grouped.groupBy(\"Dementia\").count().collect()\n",
    "total_individuals_grouped = df_grouped.count()\n",
    "dementia_percentage_grouped = [(row[\"Dementia\"], (row[\"count\"] / total_individuals_grouped) * 100) for row in dementia_counts_grouped]\n",
    "\n",
    "# Calculate percentages of dementia for boosted_df\n",
    "dementia_counts_boosted = boosted_df.groupBy(\"Dementia\").count().collect()\n",
    "total_individuals_boosted = boosted_df.count()\n",
    "dementia_percentage_boosted = [(row[\"Dementia\"], (row[\"count\"] / total_individuals_boosted) * 100) for row in dementia_counts_boosted]\n",
    "\n",
    "# Plot histograms\n",
    "fig, axs = plt.subplots(2, 2, figsize=(12, 10))\n",
    "\n",
    "# Histogram for counts of dementia in df_grouped\n",
    "axs[0, 0].bar([x[0] for x in dementia_counts_grouped], [x[1] for x in dementia_counts_grouped], color='skyblue')\n",
    "axs[0, 0].set_xlabel('Dementia')\n",
    "axs[0, 0].set_ylabel('Count')\n",
    "axs[0, 0].set_title('Histogram of Dementia Counts (Before boosting)')\n",
    "\n",
    "# Histogram for percentages of dementia in df_grouped\n",
    "axs[0, 1].bar([x[0] for x in dementia_percentage_grouped], [x[1] for x in dementia_percentage_grouped], color='skyblue')\n",
    "axs[0, 1].set_xlabel('Dementia')\n",
    "axs[0, 1].set_ylabel('Percentage')\n",
    "axs[0, 1].set_title('Histogram of Dementia Percentages (Before boosting)')\n",
    "\n",
    "# Histogram for counts of dementia in boosted_df\n",
    "axs[1, 0].bar([x[0] for x in dementia_counts_boosted], [x[1] for x in dementia_counts_boosted], color='lightgreen')\n",
    "axs[1, 0].set_xlabel('Dementia')\n",
    "axs[1, 0].set_ylabel('Count')\n",
    "axs[1, 0].set_title('Histogram of Dementia Counts (After boosting)')\n",
    "\n",
    "# Histogram for percentages of dementia in boosted_df\n",
    "axs[1, 1].bar([x[0] for x in dementia_percentage_boosted], [x[1] for x in dementia_percentage_boosted], color='lightgreen')\n",
    "axs[1, 1].set_xlabel('Dementia')\n",
    "axs[1, 1].set_ylabel('Percentage')\n",
    "axs[1, 1].set_title('Histogram of Dementia Percentages (After boosting)')\n",
    "\n",
    "plt.tight_layout()\n",
    "plt.show()\n"
   ]
  },
  {
   "cell_type": "code",
   "execution_count": 13,
   "id": "c53267f8",
   "metadata": {},
   "outputs": [
    {
     "name": "stdout",
     "output_type": "stream",
     "text": [
      "+--------+------------+---------+---------------+------+---------+----+---------------+------+--------------+--------------+--------+-----------------+-----------------+---------------------+------------------+-------------+-------------------------+--------+---------------+\n",
      "|Diabetic|AlcoholLevel|HeartRate|BodyTemperature|Weight|MRI_Delay| Age|Education_Level|Gender|Family_History|Smoking_Status| APOE_ε4|Physical_Activity|Depression_Status|Cognitive_Test_Scores|    Nutrition_Diet|Sleep_Quality|Chronic_Health_Conditions|Dementia|Education_Group|\n",
      "+--------+------------+---------+---------------+------+---------+----+---------------+------+--------------+--------------+--------+-----------------+-----------------+---------------------+------------------+-------------+-------------------------+--------+---------------+\n",
      "|     1.0|        0.08|     98.0|          36.22| 57.56|    36.42|60.0| Primary School|Female|            No|Current Smoker|Negative|        Sedentary|               No|                 10.0|     Low-Carb Diet|         Poor|                 Diabetes|     0.0|         Low Ed|\n",
      "|     0.0|        0.02|     78.0|          36.18| 56.83|    31.16|61.0| Primary School|  Male|            No| Former Smoker|Positive|Moderate Activity|               No|                  1.0|     Low-Carb Diet|         Poor|            Heart Disease|     1.0|         Low Ed|\n",
      "|     0.0|        0.01|     89.0|          37.33| 59.76|    37.64|69.0| Primary School|  Male|           Yes| Former Smoker|Negative|Moderate Activity|               No|                  8.0|Mediterranean Diet|         Poor|            Heart Disease|     0.0|         Low Ed|\n",
      "|     0.0|        0.09|     60.0|          37.03| 58.27|    50.67|78.0| Primary School|Female|           Yes|  Never Smoked|Negative|    Mild Activity|              Yes|                  5.0|     Balanced Diet|         Poor|             Hypertension|     1.0|         Low Ed|\n",
      "|     0.0|        0.02|     69.0|          36.96| 53.73|    36.63|66.0| Primary School|Female|            No| Former Smoker|Positive|    Mild Activity|               No|                 10.0|Mediterranean Diet|         Poor|              Not healthy|     0.0|         Low Ed|\n",
      "|     0.0|        0.08|     93.0|          36.51|124.82|    34.24|69.0| Primary School|  Male|            No| Former Smoker|Positive|    Mild Activity|               No|                  8.0|     Balanced Diet|         Good|             Hypertension|     0.0|         Low Ed|\n",
      "|     0.0|        0.09|     69.0|          37.13| 55.45|    21.91|73.0| Primary School|Female|            No| Former Smoker|Positive|Moderate Activity|               No|                  0.0|     Balanced Diet|         Poor|            Heart Disease|     1.0|         Low Ed|\n",
      "|     1.0|        0.16|     77.0|          36.76| 64.59|    24.79|75.0| Primary School|  Male|           Yes|  Never Smoked|Positive|Moderate Activity|               No|                  9.0|     Balanced Diet|         Poor|                 Diabetes|     0.0|         Low Ed|\n",
      "|     0.0|        0.11|     66.0|          36.82| 80.21|    33.36|69.0| Primary School|  Male|            No|  Never Smoked|Positive|        Sedentary|               No|                  9.0|     Balanced Diet|         Good|            Heart Disease|     0.0|         Low Ed|\n",
      "|     0.0|        0.05|     74.0|          36.24|  50.8|    16.11|88.0| Primary School|  Male|            No| Former Smoker|Positive|    Mild Activity|              Yes|                  3.0|Mediterranean Diet|         Poor|              Not healthy|     1.0|         Low Ed|\n",
      "|     0.0|        0.14|     87.0|          36.55| 64.14|    29.39|60.0| Primary School|Female|           Yes| Former Smoker|Positive|Moderate Activity|               No|                  8.0|     Low-Carb Diet|         Good|              Not healthy|     0.0|         Low Ed|\n",
      "|     1.0|        0.19|     67.0|          37.07| 66.85|    26.27|63.0| Primary School|Female|           Yes|  Never Smoked|Positive|    Mild Activity|               No|                  5.0|     Balanced Diet|         Good|                 Diabetes|     1.0|         Low Ed|\n",
      "|     1.0|        0.17|     83.0|          36.94| 63.74|    28.74|83.0| Primary School|Female|           Yes| Former Smoker|Positive|        Sedentary|              Yes|                  1.0|Mediterranean Diet|         Poor|                 Diabetes|     1.0|         Low Ed|\n",
      "|     0.0|        0.13|     71.0|          36.15| 76.29|    46.11|69.0| Primary School|  Male|           Yes|  Never Smoked|Negative|    Mild Activity|               No|                  8.0|Mediterranean Diet|         Good|              Not healthy|     0.0|         Low Ed|\n",
      "|     0.0|        0.15|     70.0|          36.67| 99.68|    41.76|83.0| Primary School|Female|           Yes|  Never Smoked|Positive|        Sedentary|              Yes|                  4.0|     Low-Carb Diet|         Poor|             Hypertension|     1.0|         Low Ed|\n",
      "|     0.0|         0.1|     61.0|          38.23| 62.41|     9.41|63.0| Primary School|Female|            No| Former Smoker|Positive|    Mild Activity|               No|                  9.0|     Balanced Diet|         Poor|              Not healthy|     0.0|         Low Ed|\n",
      "|     0.0|        0.11|     90.0|          36.96| 66.71|    30.16|79.0| Primary School|  Male|           Yes| Former Smoker|Negative|    Mild Activity|               No|                  8.0|Mediterranean Diet|         Good|            Heart Disease|     0.0|         Low Ed|\n",
      "|     1.0|        0.15|     85.0|          36.86| 54.27|    21.28|61.0| Primary School|  Male|           Yes| Former Smoker|Positive|    Mild Activity|               No|                  5.0|     Low-Carb Diet|         Good|                 Diabetes|     1.0|         Low Ed|\n",
      "|     0.0|        0.19|     61.0|          36.56| 74.25|     0.34|65.0| Primary School|Female|            No| Former Smoker|Positive|Moderate Activity|               No|                  0.0|Mediterranean Diet|         Poor|             Hypertension|     1.0|         Low Ed|\n",
      "|     0.0|        0.07|     70.0|          37.03| 79.97|    48.27|62.0| Primary School|Female|            No| Former Smoker|Positive|        Sedentary|               No|                  0.0|     Low-Carb Diet|         Poor|             Hypertension|     1.0|         Low Ed|\n",
      "+--------+------------+---------+---------------+------+---------+----+---------------+------+--------------+--------------+--------+-----------------+-----------------+---------------------+------------------+-------------+-------------------------+--------+---------------+\n",
      "only showing top 20 rows\n",
      "\n"
     ]
    }
   ],
   "source": [
    "from pyspark.sql.functions import col, round\n",
    "\n",
    "# Iterate over the columns of the DataFrame\n",
    "for col_name in boosted_df.columns:\n",
    "    # Check if the column is numerical\n",
    "    if str(boosted_df.schema[col_name].dataType) in [\"DoubleType\", \"FloatType\", \"DecimalType\", \"IntegerType\", \"LongType\"]:\n",
    "        # Round up the numerical values in the column\n",
    "        boosted_df = boosted_df.withColumn(col_name, round(col(col_name), 2))\n",
    "\n",
    "# Show the first few rows of the DataFrame with rounded numerical values\n",
    "boosted_df.show()\n"
   ]
  },
  {
   "cell_type": "markdown",
   "id": "f5f8c3ad",
   "metadata": {},
   "source": [
    "# 3.4 Integrate various data sources"
   ]
  },
  {
   "cell_type": "code",
   "execution_count": 14,
   "id": "418668c8",
   "metadata": {},
   "outputs": [],
   "source": [
    "# Save DataFrame to a CSV file\n",
    "#boosted_df.write.csv(\"Dataset/df_new_3_100%.csv\", header=True)"
   ]
  },
  {
   "cell_type": "code",
   "execution_count": 15,
   "id": "3d617ea0",
   "metadata": {},
   "outputs": [
    {
     "name": "stdout",
     "output_type": "stream",
     "text": [
      "Total count of rows: 545\n"
     ]
    }
   ],
   "source": [
    "# Define the fraction for sampling (30%)\n",
    "fraction = 0.3\n",
    "\n",
    "# Sample 30% of the data randomly from boosted_df\n",
    "random_data_df = boosted_df.sample(fraction=fraction, seed=42)\n",
    "\n",
    "# Show the sampled DataFrame\n",
    "# Count the total number of rows in the DataFrame\n",
    "total_count = random_data_df.count()\n",
    "\n",
    "# Display the total count\n",
    "print(\"Total count of rows:\", total_count)\n"
   ]
  },
  {
   "cell_type": "code",
   "execution_count": 16,
   "id": "7483b00e",
   "metadata": {},
   "outputs": [],
   "source": [
    "# Save DataFrame to a CSV file\n",
    "#random_data_df.write.csv(\"Dataset/df_new_3_30%.csv\", header=True)"
   ]
  },
  {
   "cell_type": "code",
   "execution_count": 17,
   "id": "a8966410",
   "metadata": {},
   "outputs": [
    {
     "data": {
      "image/png": "[encoded data removed]",
      "text/plain": [
       "<Figure size 432x288 with 1 Axes>"
      ]
     },
     "metadata": {
      "needs_background": "light"
     },
     "output_type": "display_data"
    },
    {
     "name": "stdout",
     "output_type": "stream",
     "text": [
      "Dementia Percentage: 48.07339449541285 %\n",
      "Non-Dementia Percentage: 51.92660550458715 %\n"
     ]
    }
   ],
   "source": [
    "import matplotlib.pyplot as plt\n",
    "from pyspark.sql.functions import col\n",
    "\n",
    "\n",
    "# Calculate the counts of dementia and non-dementia cases\n",
    "dementia_counts = random_data_df.filter(random_data_df[\"Dementia\"] == 1).count()\n",
    "non_dementia_counts = random_data_df.filter(random_data_df[\"Dementia\"] == 0).count()\n",
    "\n",
    "# Calculate the total number of individuals\n",
    "total_individuals = random_data_df.count()\n",
    "\n",
    "# Calculate the percentages of dementia cases\n",
    "dementia_percentage = (dementia_counts / total_individuals) * 100\n",
    "non_dementia_percentage = (non_dementia_counts / total_individuals) * 100\n",
    "\n",
    "# Plot the histogram\n",
    "labels = ['Dementia', 'Non-Dementia']\n",
    "percentages = [dementia_percentage, non_dementia_percentage]\n",
    "\n",
    "plt.bar(labels, percentages, color=['skyblue', 'lightgreen'])\n",
    "plt.xlabel('Dementia')\n",
    "plt.ylabel('Percentage')\n",
    "plt.title('Percentage of Dementia Cases in 30% Data')\n",
    "plt.ylim(0, 100)\n",
    "plt.show()\n",
    "\n",
    "\n",
    "\n",
    "# Display the percentages\n",
    "print(\"Dementia Percentage:\", dementia_percentage, \"%\")\n",
    "print(\"Non-Dementia Percentage:\", non_dementia_percentage, \"%\")\n"
   ]
  },
  {
   "cell_type": "code",
   "execution_count": 18,
   "id": "e8450892",
   "metadata": {},
   "outputs": [
    {
     "data": {
      "image/png": "[encoded data removed]",
      "text/plain": [
       "<Figure size 432x288 with 1 Axes>"
      ]
     },
     "metadata": {
      "needs_background": "light"
     },
     "output_type": "display_data"
    },
    {
     "name": "stdout",
     "output_type": "stream",
     "text": [
      "Dementia Percentage: 48.66743916570104 %\n",
      "Non-Dementia Percentage: 51.33256083429896 %\n"
     ]
    }
   ],
   "source": [
    "import matplotlib.pyplot as plt\n",
    "from pyspark.sql.functions import col\n",
    "\n",
    "\n",
    "# Calculate the counts of dementia and non-dementia cases\n",
    "dementia_counts = boosted_df.filter(boosted_df[\"Dementia\"] == 1).count()\n",
    "non_dementia_counts = boosted_df.filter(boosted_df[\"Dementia\"] == 0).count()\n",
    "\n",
    "# Calculate the total number of individuals\n",
    "total_individuals = boosted_df.count()\n",
    "\n",
    "# Calculate the percentages of dementia cases\n",
    "dementia_percentage = (dementia_counts / total_individuals) * 100\n",
    "non_dementia_percentage = (non_dementia_counts / total_individuals) * 100\n",
    "\n",
    "# Plot the histogram\n",
    "labels = ['Dementia', 'Non-Dementia']\n",
    "percentages = [dementia_percentage, non_dementia_percentage]\n",
    "\n",
    "plt.bar(labels, percentages, color=['skyblue', 'lightgreen'])\n",
    "plt.xlabel('Dementia')\n",
    "plt.ylabel('Percentage')\n",
    "plt.title('Percentage of Dementia Cases in 100% Data')\n",
    "plt.ylim(0, 100)\n",
    "plt.show()\n",
    "\n",
    "\n",
    "\n",
    "# Display the percentages\n",
    "print(\"Dementia Percentage:\", dementia_percentage, \"%\")\n",
    "print(\"Non-Dementia Percentage:\", non_dementia_percentage, \"%\")\n"
   ]
  },
  {
   "cell_type": "code",
   "execution_count": 19,
   "id": "40d3e9de",
   "metadata": {
    "scrolled": false
   },
   "outputs": [
    {
     "name": "stdout",
     "output_type": "stream",
     "text": [
      "+--------+------------+---------+---------------+------+---------+----+----------------+------+--------------+--------------+--------+-----------------+-----------------+---------------------+------------------+-------------+-------------------------+--------+---------------+\n",
      "|Diabetic|AlcoholLevel|HeartRate|BodyTemperature|Weight|MRI_Delay| Age| Education_Level|Gender|Family_History|Smoking_Status| APOE_ε4|Physical_Activity|Depression_Status|Cognitive_Test_Scores|    Nutrition_Diet|Sleep_Quality|Chronic_Health_Conditions|Dementia|Education_Group|\n",
      "+--------+------------+---------+---------------+------+---------+----+----------------+------+--------------+--------------+--------+-----------------+-----------------+---------------------+------------------+-------------+-------------------------+--------+---------------+\n",
      "|     1.0|        0.11|    123.0|          36.68| 66.59|    21.15|67.0|Secondary School|  Male|            No| Former Smoker|Positive|    Mild Activity|              Yes|                  1.0|     Low-Carb Diet|         Poor|                 Diabetes|     1.0|         Low Ed|\n",
      "|     1.0|        0.02|     90.0|          37.02| 83.98|    11.35|87.0|Secondary School|  Male|            No|  Never Smoked|Positive|    Mild Activity|               No|                  7.0|Mediterranean Diet|         Poor|                 Diabetes|     1.0|         Low Ed|\n",
      "|     0.0|        0.16|     35.0|          36.05| 69.65|    30.34|66.0|Secondary School|Female|            No| Former Smoker|Negative|    Mild Activity|               No|                  9.0|     Low-Carb Diet|         Poor|             Hypertension|     0.0|         Low Ed|\n",
      "|     1.0|         0.1|     64.0|           36.4| 58.37|    49.18|87.0|Secondary School|Female|            No| Former Smoker|Positive|        Sedentary|              Yes|                  7.0|     Balanced Diet|         Good|                 Diabetes|     1.0|         Low Ed|\n",
      "|     0.0|        0.07|     97.0|          37.12| 81.58|    22.28|73.0|Secondary School|Female|           Yes|  Never Smoked|Positive|    Mild Activity|               No|                  9.0|Mediterranean Diet|         Good|            Heart Disease|     0.0|         Low Ed|\n",
      "|     1.0|        0.03|     93.0|          36.63| 56.73|    52.64|76.0|Secondary School|Female|           Yes| Former Smoker|Negative|Moderate Activity|               No|                  6.0|     Low-Carb Diet|         Poor|                 Diabetes|     1.0|         Low Ed|\n",
      "|     1.0|        0.16|     95.0|          36.85| 54.16|     8.69|90.0|Secondary School|Female|            No|  Never Smoked|Positive|    Mild Activity|               No|                 10.0|     Low-Carb Diet|         Poor|                 Diabetes|     0.0|         Low Ed|\n",
      "|     0.0|        0.17|     84.0|          36.01| 72.62|    32.56|87.0|Secondary School|Female|           Yes|Current Smoker|Negative|    Mild Activity|               No|                  9.0|     Balanced Diet|         Good|              Not healthy|     0.0|         Low Ed|\n",
      "|     0.0|        0.04|     74.0|          37.07|  54.4|    10.03|89.0|Secondary School|Female|            No| Former Smoker|Positive|    Mild Activity|              Yes|                  6.0|     Balanced Diet|         Good|            Heart Disease|     1.0|         Low Ed|\n",
      "|     1.0|        0.03|     93.0|          36.57| 92.24|    13.94|76.0|Secondary School|  Male|            No|  Never Smoked|Negative|Moderate Activity|               No|                  8.0|Mediterranean Diet|         Poor|                 Diabetes|     0.0|         Low Ed|\n",
      "|     1.0|        0.09|     67.0|          37.23| 84.59|      6.2|85.0|Secondary School|  Male|            No|  Never Smoked|Negative|Moderate Activity|               No|                  9.0|     Low-Carb Diet|         Poor|                 Diabetes|     0.0|         Low Ed|\n",
      "|     1.0|        0.05|     76.0|          36.53| 74.94|    18.37|85.0|Secondary School|Female|            No|  Never Smoked|Positive|        Sedentary|               No|                  5.0|Mediterranean Diet|         Poor|                 Diabetes|     1.0|         Low Ed|\n",
      "|     0.0|         0.0|     99.0|          36.07| 71.85|     7.34|70.0|Secondary School|  Male|           Yes| Former Smoker|Positive|        Sedentary|               No|                  4.0|Mediterranean Diet|         Good|              Not healthy|     1.0|         Low Ed|\n",
      "|     0.0|        0.11|     98.0|          37.06| 69.53|    11.51|71.0|Secondary School|  Male|           Yes|Current Smoker|Negative|        Sedentary|               No|                  9.0|     Low-Carb Diet|         Poor|             Hypertension|     0.0|         Low Ed|\n",
      "|     0.0|        0.15|     75.0|          37.33| 53.93|    57.45|78.0|Secondary School|Female|           Yes|  Never Smoked|Negative|Moderate Activity|               No|                  8.0|     Low-Carb Diet|         Poor|            Heart Disease|     0.0|         Low Ed|\n",
      "|     0.0|        0.02|     97.0|           37.4| 94.55|    30.69|75.0|Secondary School|  Male|            No|  Never Smoked|Positive|        Sedentary|              Yes|                  2.0|Mediterranean Diet|         Poor|            Heart Disease|     1.0|         Low Ed|\n",
      "|     1.0|        0.06|     88.0|          36.06| 84.35|    23.34|87.0|Secondary School|  Male|           Yes| Former Smoker|Negative|        Sedentary|               No|                  8.0|Mediterranean Diet|         Poor|                 Diabetes|     0.0|         Low Ed|\n",
      "|     1.0|        0.08|     93.0|          36.89| 78.97|     6.97|77.0|Secondary School|  Male|           Yes|  Never Smoked|Positive|    Mild Activity|               No|                  9.0|Mediterranean Diet|         Good|                 Diabetes|     0.0|         Low Ed|\n",
      "|     0.0|        0.17|     96.0|          37.48| 85.52|    48.82|74.0|Secondary School|  Male|           Yes|  Never Smoked|Positive|        Sedentary|              Yes|                  7.0|     Balanced Diet|         Good|              Not healthy|     1.0|         Low Ed|\n",
      "|     0.0|        0.04|     80.0|          36.65|  56.6|    59.96|70.0|Secondary School|  Male|           Yes|  Never Smoked|Positive|    Mild Activity|               No|                  9.0|     Low-Carb Diet|         Good|            Heart Disease|     0.0|         Low Ed|\n",
      "+--------+------------+---------+---------------+------+---------+----+----------------+------+--------------+--------------+--------+-----------------+-----------------+---------------------+------------------+-------------+-------------------------+--------+---------------+\n",
      "only showing top 20 rows\n",
      "\n"
     ]
    }
   ],
   "source": [
    "from pyspark.sql import SparkSession\n",
    "\n",
    "# Initialize SparkSession\n",
    "spark = SparkSession.builder \\\n",
    "    .appName(\"Merge Datasets\") \\\n",
    "    .getOrCreate()\n",
    "\n",
    "# Read the CSV files into DataFrames\n",
    "df_merge1 = spark.read.csv('Dataset/df_new_3_100%.csv', header=True, inferSchema=True)\n",
    "df_merge2 = spark.read.csv('Dataset/df_new_3_30%.csv', header=True, inferSchema=True)\n",
    "\n",
    "# Merge the DataFrames using union\n",
    "df_merged = df_merge1.union(df_merge2)\n",
    "\n",
    "# Show the merged DataFrame\n",
    "df_merged.show()\n",
    "\n"
   ]
  },
  {
   "cell_type": "code",
   "execution_count": 20,
   "id": "0586f78b",
   "metadata": {
    "scrolled": false
   },
   "outputs": [
    {
     "name": "stdout",
     "output_type": "stream",
     "text": [
      "DataFrame Summary:\n",
      "Total Rows     : 2271\n",
      "Total Columns  : 20\n",
      "\n",
      "DataFrame Schema:\n",
      "Column                    Non-Null Count  Null Count Dtype     \n",
      "------------------------------------------------------------\n",
      "Diabetic                  2271            0          double    \n",
      "AlcoholLevel              2271            0          double    \n",
      "HeartRate                 2271            0          double    \n",
      "BodyTemperature           2271            0          double    \n",
      "Weight                    2271            0          double    \n",
      "MRI_Delay                 2271            0          double    \n",
      "Age                       2271            0          double    \n",
      "Education_Level           2271            0          string    \n",
      "Gender                    2271            0          string    \n",
      "Family_History            2271            0          string    \n",
      "Smoking_Status            2271            0          string    \n",
      "APOE_ε4                   2271            0          string    \n",
      "Physical_Activity         2271            0          string    \n",
      "Depression_Status         2271            0          string    \n",
      "Cognitive_Test_Scores     2271            0          double    \n",
      "Nutrition_Diet            2271            0          string    \n",
      "Sleep_Quality             2271            0          string    \n",
      "Chronic_Health_Conditions 2271            0          string    \n",
      "Dementia                  2271            0          double    \n",
      "Education_Group           2271            0          string    \n"
     ]
    }
   ],
   "source": [
    "def spark_info(df):\n",
    "    # Get the schema of the DataFrame\n",
    "    schema = df.schema\n",
    "    \n",
    "    # Create a list to hold column information\n",
    "    columns_info = []\n",
    "    \n",
    "    # Iterate through the schema to get column information\n",
    "    for field in schema:\n",
    "        column_name = field.name\n",
    "        column_type = field.dataType.simpleString()\n",
    "        \n",
    "        # Count non-null values\n",
    "        non_null_count = df_merged.filter(col(column_name).isNotNull()).count()\n",
    "        \n",
    "        # Count null values\n",
    "        null_count = df_merged.filter(col(column_name).isNull() | isnan(col(column_name))).count()\n",
    "        \n",
    "        columns_info.append((column_name, column_type, non_null_count, null_count))\n",
    "    \n",
    "    # Display the DataFrame schema and summary\n",
    "    total_rows = df_merged.count()\n",
    "    total_columns = len(schema)\n",
    "    \n",
    "    # Print the summary table\n",
    "    print(f\"DataFrame Summary:\")\n",
    "    print(f\"{'Total Rows':<15}: {total_rows}\")\n",
    "    print(f\"{'Total Columns':<15}: {total_columns}\")\n",
    "    print(\"\\nDataFrame Schema:\")\n",
    "    print(f\"{'Column':<25} {'Non-Null Count':<15} {'Null Count':<10} {'Dtype':<10}\")\n",
    "    print(\"-\" * 60)\n",
    "    for column_info in columns_info:\n",
    "        print(f\"{column_info[0]:<25} {column_info[2]:<15} {column_info[3]:<10} {column_info[1]:<10}\")\n",
    "\n",
    "# Call the function to describe the DataFrame\n",
    "spark_info(df_merged)\n"
   ]
  },
  {
   "cell_type": "code",
   "execution_count": 21,
   "id": "4a5c7f72",
   "metadata": {},
   "outputs": [],
   "source": [
    "def count_outliers_iqr(df_merged):\n",
    "    # Define an empty dictionary to store the results\n",
    "    results = {}\n",
    "    \n",
    "    # Loop through each numerical column in the DataFrame\n",
    "    for column in df_merged.columns:\n",
    "        if df_merged.select(column).dtypes[0][1] in ['int', 'bigint', 'float', 'double']:\n",
    "            # Calculate quartiles for the column\n",
    "            quartiles = df_merged.approxQuantile(column, [0.25, 0.75], 0.01)\n",
    "            q1 = quartiles[0]\n",
    "            q3 = quartiles[1]\n",
    "            \n",
    "            # Calculate IQR for the column\n",
    "            iqr = q3 - q1\n",
    "            \n",
    "            # Calculate lower and upper bounds for outliers\n",
    "            lower_bound = q1 - 1.5 * iqr\n",
    "            upper_bound = q3 + 1.5 * iqr\n",
    "            \n",
    "            # Count the number of values less than the lower bound or greater than the upper bound\n",
    "            count_outliers = df_merged.filter((col(column) < lower_bound) | (col(column) > upper_bound)).count()\n",
    "            \n",
    "            # Count the number of values less than the lower bound or greater than the upper bound by 3*IQR\n",
    "            count_extremes = df_merged.filter((col(column) < (q1 - 3 * iqr)) | (col(column) > (q3 + 3 * iqr))).count()\n",
    "            \n",
    "            # Add the counts to the dictionary\n",
    "            results[column] = (count_outliers, count_extremes)\n",
    "    \n",
    "    # Return the dictionary containing counts of outliers and extreme values for each column\n",
    "    return results\n",
    "\n",
    "\n"
   ]
  },
  {
   "cell_type": "code",
   "execution_count": 22,
   "id": "1fbedd20",
   "metadata": {},
   "outputs": [
    {
     "name": "stdout",
     "output_type": "stream",
     "text": [
      "Column Name            | Outliers   | Extreme Values\n",
      "-------------------------------------------------\n",
      "Diabetic               | 0          | 0            \n",
      "AlcoholLevel           | 0          | 0            \n",
      "HeartRate              | 0          | 0            \n",
      "BodyTemperature        | 0          | 0            \n",
      "Weight                 | 0          | 0            \n",
      "MRI_Delay              | 0          | 0            \n",
      "Age                    | 0          | 0            \n",
      "Cognitive_Test_Scores  | 0          | 0            \n",
      "Dementia               | 0          | 0            \n"
     ]
    }
   ],
   "source": [
    "# Count outliers and extreme values for each column using IQR method for df_new_2\n",
    "outlier_counts_iqr_2 = count_outliers_iqr(df_merged)\n",
    "\n",
    "# Display the header of the table\n",
    "print(\"Column Name            | Outliers   | Extreme Values\")\n",
    "print(\"-------------------------------------------------\")\n",
    "\n",
    "# Display the counts of outliers and extreme values for each column using IQR method for df_new_2\n",
    "for column, (outliers, extremes) in outlier_counts_iqr_2.items():\n",
    "    print(f\"{column: <22} | {outliers: <10} | {extremes: <13}\")"
   ]
  },
  {
   "cell_type": "markdown",
   "id": "a91e93ac",
   "metadata": {},
   "source": [
    "# 3.5 Formatting Data"
   ]
  },
  {
   "cell_type": "code",
   "execution_count": 23,
   "id": "a1c15477",
   "metadata": {},
   "outputs": [
    {
     "name": "stdout",
     "output_type": "stream",
     "text": [
      "DataFrame Summary:\n",
      "Total Rows     : 1726\n",
      "Total Columns  : 20\n",
      "\n",
      "DataFrame Schema:\n",
      "Column                    Non-Null Count  Null Count Dtype     \n",
      "------------------------------------------------------------\n",
      "Diabetic                  1726            0          double    \n",
      "AlcoholLevel              1726            0          double    \n",
      "HeartRate                 1726            0          double    \n",
      "BodyTemperature           1726            0          double    \n",
      "Weight                    1726            0          double    \n",
      "MRI_Delay                 1726            0          double    \n",
      "Age                       1726            0          double    \n",
      "Education_Level           1726            0          string    \n",
      "Gender                    1726            0          string    \n",
      "Family_History            1726            0          string    \n",
      "Smoking_Status            1726            0          string    \n",
      "APOE_ε4                   1726            0          string    \n",
      "Physical_Activity         1726            0          string    \n",
      "Depression_Status         1726            0          string    \n",
      "Cognitive_Test_Scores     1726            0          double    \n",
      "Nutrition_Diet            1726            0          string    \n",
      "Sleep_Quality             1726            0          string    \n",
      "Chronic_Health_Conditions 1726            0          string    \n",
      "Dementia                  1726            0          double    \n",
      "Education_Group           1726            0          string    \n"
     ]
    }
   ],
   "source": [
    "def spark_info(df):\n",
    "    # Get the schema of the DataFrame\n",
    "    schema = df.schema\n",
    "    \n",
    "    # Create a list to hold column information\n",
    "    columns_info = []\n",
    "    \n",
    "    # Iterate through the schema to get column information\n",
    "    for field in schema:\n",
    "        column_name = field.name\n",
    "        column_type = field.dataType.simpleString()\n",
    "        \n",
    "        # Count non-null values\n",
    "        non_null_count = df_merge1.filter(col(column_name).isNotNull()).count()\n",
    "        \n",
    "        # Count null values\n",
    "        null_count = df_merge1.filter(col(column_name).isNull() | isnan(col(column_name))).count()\n",
    "        \n",
    "        columns_info.append((column_name, column_type, non_null_count, null_count))\n",
    "    \n",
    "    # Display the DataFrame schema and summary\n",
    "    total_rows = df_merge1.count()\n",
    "    total_columns = len(schema)\n",
    "    \n",
    "    # Print the summary table\n",
    "    print(f\"DataFrame Summary:\")\n",
    "    print(f\"{'Total Rows':<15}: {total_rows}\")\n",
    "    print(f\"{'Total Columns':<15}: {total_columns}\")\n",
    "    print(\"\\nDataFrame Schema:\")\n",
    "    print(f\"{'Column':<25} {'Non-Null Count':<15} {'Null Count':<10} {'Dtype':<10}\")\n",
    "    print(\"-\" * 60)\n",
    "    for column_info in columns_info:\n",
    "        print(f\"{column_info[0]:<25} {column_info[2]:<15} {column_info[3]:<10} {column_info[1]:<10}\")\n",
    "\n",
    "# Call the function to describe the DataFrame\n",
    "spark_info(df_merge1)\n"
   ]
  },
  {
   "cell_type": "code",
   "execution_count": 24,
   "id": "6ab8f0ff",
   "metadata": {},
   "outputs": [
    {
     "name": "stdout",
     "output_type": "stream",
     "text": [
      "DataFrame Summary:\n",
      "Total Rows     : 545\n",
      "Total Columns  : 20\n",
      "\n",
      "DataFrame Schema:\n",
      "Column                    Non-Null Count  Null Count Dtype     \n",
      "------------------------------------------------------------\n",
      "Diabetic                  545             0          double    \n",
      "AlcoholLevel              545             0          double    \n",
      "HeartRate                 545             0          double    \n",
      "BodyTemperature           545             0          double    \n",
      "Weight                    545             0          double    \n",
      "MRI_Delay                 545             0          double    \n",
      "Age                       545             0          double    \n",
      "Education_Level           545             0          string    \n",
      "Gender                    545             0          string    \n",
      "Family_History            545             0          string    \n",
      "Smoking_Status            545             0          string    \n",
      "APOE_ε4                   545             0          string    \n",
      "Physical_Activity         545             0          string    \n",
      "Depression_Status         545             0          string    \n",
      "Cognitive_Test_Scores     545             0          double    \n",
      "Nutrition_Diet            545             0          string    \n",
      "Sleep_Quality             545             0          string    \n",
      "Chronic_Health_Conditions 545             0          string    \n",
      "Dementia                  545             0          double    \n",
      "Education_Group           545             0          string    \n"
     ]
    }
   ],
   "source": [
    "def spark_info(df):\n",
    "    # Get the schema of the DataFrame\n",
    "    schema = df.schema\n",
    "    \n",
    "    # Create a list to hold column information\n",
    "    columns_info = []\n",
    "    \n",
    "    # Iterate through the schema to get column information\n",
    "    for field in schema:\n",
    "        column_name = field.name\n",
    "        column_type = field.dataType.simpleString()\n",
    "        \n",
    "        # Count non-null values\n",
    "        non_null_count = df_merge2.filter(col(column_name).isNotNull()).count()\n",
    "        \n",
    "        # Count null values\n",
    "        null_count = df_merge2.filter(col(column_name).isNull() | isnan(col(column_name))).count()\n",
    "        \n",
    "        columns_info.append((column_name, column_type, non_null_count, null_count))\n",
    "    \n",
    "    # Display the DataFrame schema and summary\n",
    "    total_rows = df_merge2.count()\n",
    "    total_columns = len(schema)\n",
    "    \n",
    "    # Print the summary table\n",
    "    print(f\"DataFrame Summary:\")\n",
    "    print(f\"{'Total Rows':<15}: {total_rows}\")\n",
    "    print(f\"{'Total Columns':<15}: {total_columns}\")\n",
    "    print(\"\\nDataFrame Schema:\")\n",
    "    print(f\"{'Column':<25} {'Non-Null Count':<15} {'Null Count':<10} {'Dtype':<10}\")\n",
    "    print(\"-\" * 60)\n",
    "    for column_info in columns_info:\n",
    "        print(f\"{column_info[0]:<25} {column_info[2]:<15} {column_info[3]:<10} {column_info[1]:<10}\")\n",
    "\n",
    "# Call the function to describe the DataFrame\n",
    "spark_info(df_merge2)\n"
   ]
  },
  {
   "cell_type": "code",
   "execution_count": 25,
   "id": "282022d1",
   "metadata": {},
   "outputs": [],
   "source": [
    "# Save DataFrame to a CSV file\n",
    "#df_merged.write.csv(\"Dataset/df_new_4.csv\", header=True)"
   ]
  },
  {
   "cell_type": "code",
   "execution_count": 26,
   "id": "165ae60a",
   "metadata": {},
   "outputs": [],
   "source": [
    "# Finish"
   ]
  }
 ],
 "metadata": {
  "kernelspec": {
   "display_name": "Python 3 (ipykernel)",
   "language": "python",
   "name": "python3"
  },
  "language_info": {
   "codemirror_mode": {
    "name": "ipython",
    "version": 3
   },
   "file_extension": ".py",
   "mimetype": "text/x-python",
   "name": "python",
   "nbconvert_exporter": "python",
   "pygments_lexer": "ipython3",
   "version": "3.10.12"
  }
 },
 "nbformat": 4,
 "nbformat_minor": 5
}
