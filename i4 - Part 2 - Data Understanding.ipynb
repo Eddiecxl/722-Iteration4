{
 "cells": [
  {
   "cell_type": "code",
   "execution_count": 1,
   "id": "c8b0c790",
   "metadata": {},
   "outputs": [
    {
     "data": {
      "text/plain": [
       "'Part 2 - Data Understanding'"
      ]
     },
     "execution_count": 1,
     "metadata": {},
     "output_type": "execute_result"
    }
   ],
   "source": [
    "\"Part 2 - Data Understanding\""
   ]
  },
  {
   "cell_type": "code",
   "execution_count": 2,
   "id": "40356b26",
   "metadata": {},
   "outputs": [
    {
     "name": "stderr",
     "output_type": "stream",
     "text": [
      "WARNING: An illegal reflective access operation has occurred\n",
      "WARNING: Illegal reflective access by org.apache.spark.unsafe.Platform (file:/home/ubuntu/.local/lib/python3.10/site-packages/pyspark/jars/spark-unsafe_2.12-3.2.1.jar) to constructor java.nio.DirectByteBuffer(long,int)\n",
      "WARNING: Please consider reporting this to the maintainers of org.apache.spark.unsafe.Platform\n",
      "WARNING: Use --illegal-access=warn to enable warnings of further illegal reflective access operations\n",
      "WARNING: All illegal access operations will be denied in a future release\n",
      "Using Spark's default log4j profile: org/apache/spark/log4j-defaults.properties\n",
      "Setting default log level to \"WARN\".\n",
      "To adjust logging level use sc.setLogLevel(newLevel). For SparkR, use setLogLevel(newLevel).\n",
      "24/05/19 10:23:34 WARN NativeCodeLoader: Unable to load native-hadoop library for your platform... using builtin-java classes where applicable\n"
     ]
    }
   ],
   "source": [
    "import pyspark\n",
    "from pyspark.sql.functions import col, count, isnan, when\n",
    "from pyspark.sql import SparkSession\n",
    "spark = SparkSession.builder \\\n",
    "    .appName(\"PySpark in Jupyter\") \\\n",
    "    .getOrCreate()"
   ]
  },
  {
   "cell_type": "code",
   "execution_count": 3,
   "id": "3f60a9c6",
   "metadata": {},
   "outputs": [],
   "source": [
    "df = spark.read.csv('Dataset/dementia_data.csv', header=True, inferSchema=True)"
   ]
  },
  {
   "cell_type": "markdown",
   "id": "6fcd9ba3",
   "metadata": {},
   "source": [
    "# 2.2 Describe Data"
   ]
  },
  {
   "cell_type": "code",
   "execution_count": 4,
   "id": "03ffca07",
   "metadata": {
    "scrolled": true
   },
   "outputs": [
    {
     "name": "stdout",
     "output_type": "stream",
     "text": [
      "root\n",
      " |-- Diabetic: integer (nullable = true)\n",
      " |-- AlcoholLevel: double (nullable = true)\n",
      " |-- HeartRate: integer (nullable = true)\n",
      " |-- BloodOxygenLevel: double (nullable = true)\n",
      " |-- BodyTemperature: double (nullable = true)\n",
      " |-- Weight: double (nullable = true)\n",
      " |-- MRI_Delay: double (nullable = true)\n",
      " |-- Prescription: string (nullable = true)\n",
      " |-- Dosage in mg: double (nullable = true)\n",
      " |-- Age: integer (nullable = true)\n",
      " |-- Education_Level: string (nullable = true)\n",
      " |-- Dominant_Hand: string (nullable = true)\n",
      " |-- Gender: string (nullable = true)\n",
      " |-- Family_History: string (nullable = true)\n",
      " |-- Smoking_Status: string (nullable = true)\n",
      " |-- APOE_ε4: string (nullable = true)\n",
      " |-- Physical_Activity: string (nullable = true)\n",
      " |-- Depression_Status: string (nullable = true)\n",
      " |-- Cognitive_Test_Scores: integer (nullable = true)\n",
      " |-- Medication_History: string (nullable = true)\n",
      " |-- Nutrition_Diet: string (nullable = true)\n",
      " |-- Sleep_Quality: string (nullable = true)\n",
      " |-- Chronic_Health_Conditions: string (nullable = true)\n",
      " |-- Dementia: integer (nullable = true)\n",
      "\n"
     ]
    }
   ],
   "source": [
    "df.printSchema()"
   ]
  },
  {
   "cell_type": "code",
   "execution_count": 5,
   "id": "9b890534",
   "metadata": {},
   "outputs": [
    {
     "data": {
      "text/html": [
       "<table><tr><th>Diabetic</th><th>AlcoholLevel</th><th>HeartRate</th><th>BloodOxygenLevel</th><th>BodyTemperature</th><th>Weight</th><th>MRI_Delay</th><th>Prescription</th><th>Dosage in mg</th><th>Age</th><th>Education_Level</th><th>Dominant_Hand</th><th>Gender</th><th>Family_History</th><th>Smoking_Status</th><th>APOE_ε4</th><th>Physical_Activity</th><th>Depression_Status</th><th>Cognitive_Test_Scores</th><th>Medication_History</th><th>Nutrition_Diet</th><th>Sleep_Quality</th><th>Chronic_Health_Conditions</th><th>Dementia</th></tr><tr><td>1</td><td>0.084973629</td><td>98</td><td>96.23074296</td><td>36.22485168</td><td>57.56397754</td><td>36.42102798</td><td>None</td><td>None</td><td>60</td><td>Primary School</td><td>Left</td><td>Female</td><td>No</td><td>Current Smoker</td><td>Negative</td><td>Sedentary</td><td>No</td><td>10</td><td>No</td><td>Low-Carb Diet</td><td>Poor</td><td>Diabetes</td><td>0</td></tr><tr><td>0</td><td>0.016972773</td><td>78</td><td>93.03212234</td><td>36.18387372</td><td>56.83233533</td><td>31.15763321</td><td>Galantamine</td><td>12.0</td><td>61</td><td>Secondary School</td><td>Right</td><td>Male</td><td>No</td><td>Former Smoker</td><td>Positive</td><td>Moderate Activity</td><td>No</td><td>1</td><td>Yes</td><td>Low-Carb Diet</td><td>Poor</td><td>Heart Disease</td><td>1</td></tr><tr><td>0</td><td>0.00900025</td><td>89</td><td>93.56650425</td><td>37.32632078</td><td>59.75906557</td><td>37.64043545</td><td>None</td><td>None</td><td>69</td><td>Primary School</td><td>Right</td><td>Male</td><td>Yes</td><td>Former Smoker</td><td>Negative</td><td>Moderate Activity</td><td>No</td><td>8</td><td>No</td><td>Mediterranean Diet</td><td>Poor</td><td>Heart Disease</td><td>0</td></tr><tr><td>0</td><td>0.08643726</td><td>60</td><td>93.90650966</td><td>37.03061991</td><td>58.26647094</td><td>50.67399181</td><td>Donepezil</td><td>23.0</td><td>78</td><td>Secondary School</td><td>Left</td><td>Female</td><td>Yes</td><td>Never Smoked</td><td>Negative</td><td>Mild Activity</td><td>Yes</td><td>5</td><td>Yes</td><td>Balanced Diet</td><td>Poor</td><td>Hypertension</td><td>1</td></tr><tr><td>1</td><td>0.150747307</td><td>67</td><td>97.50899362</td><td>36.06212064</td><td>67.70502731</td><td>27.81060082</td><td>Memantine</td><td>20.0</td><td>77</td><td>Secondary School</td><td>Right</td><td>Male</td><td>Yes</td><td>Never Smoked</td><td>Positive</td><td>Mild Activity</td><td>No</td><td>0</td><td>Yes</td><td>Low-Carb Diet</td><td>Good</td><td>Diabetes</td><td>1</td></tr><tr><td>1</td><td>0.114027805</td><td>194</td><td>94.54675449</td><td>36.67807148</td><td>66.59232945</td><td>21.15486333</td><td>Rivastigmine</td><td>1.5</td><td>67</td><td>None</td><td>Left</td><td>Male</td><td>No</td><td>Former Smoker</td><td>Positive</td><td>Mild Activity</td><td>Yes</td><td>1</td><td>No</td><td>Low-Carb Diet</td><td>Poor</td><td>Diabetes</td><td>1</td></tr><tr><td>1</td><td>0.016193782</td><td>90</td><td>96.42336125</td><td>37.02463024</td><td>83.97655278</td><td>11.35061188</td><td>Donepezil</td><td>10.0</td><td>87</td><td>Primary School</td><td>Right</td><td>Male</td><td>No</td><td>Never Smoked</td><td>Positive</td><td>Mild Activity</td><td>No</td><td>7</td><td>No</td><td>Mediterranean Diet</td><td>Poor</td><td>Diabetes</td><td>1</td></tr><tr><td>0</td><td>0.161158077</td><td>20</td><td>92.00736986</td><td>36.05029416</td><td>69.65356381</td><td>30.33941341</td><td>None</td><td>None</td><td>66</td><td>Secondary School</td><td>Right</td><td>Female</td><td>No</td><td>Former Smoker</td><td>Negative</td><td>Mild Activity</td><td>No</td><td>9</td><td>Yes</td><td>Low-Carb Diet</td><td>Poor</td><td>Hypertension</td><td>0</td></tr><tr><td>0</td><td>0.015754249</td><td>69</td><td>99.85948977</td><td>36.95525851</td><td>53.72507846</td><td>36.62968689</td><td>None</td><td>None</td><td>66</td><td>Secondary School</td><td>Right</td><td>Female</td><td>No</td><td>Former Smoker</td><td>Positive</td><td>Mild Activity</td><td>No</td><td>10</td><td>Yes</td><td>Mediterranean Diet</td><td>Poor</td><td>None</td><td>0</td></tr><tr><td>1</td><td>0.097339537</td><td>64</td><td>90.31906814</td><td>36.39628625</td><td>58.36669799</td><td>49.17575751</td><td>Rivastigmine</td><td>3.0</td><td>87</td><td>Diploma/Degree</td><td>Left</td><td>Female</td><td>No</td><td>Former Smoker</td><td>Positive</td><td>Sedentary</td><td>Yes</td><td>7</td><td>Yes</td><td>Balanced Diet</td><td>Good</td><td>Diabetes</td><td>1</td></tr></table>"
      ],
      "text/plain": [
       "<IPython.core.display.HTML object>"
      ]
     },
     "metadata": {},
     "output_type": "display_data"
    }
   ],
   "source": [
    "def display_spark_dataframe(spark_df, num_rows=10):\n",
    "    # Collect rows to the driver (be careful with large data)\n",
    "    rows = spark_df.take(num_rows)\n",
    "    \n",
    "    # Extract the schema\n",
    "    columns = spark_df.columns\n",
    "    \n",
    "    # Display the rows in a tabular format\n",
    "    html = \"<table>\"\n",
    "    # Add the header\n",
    "    html += \"<tr>\" + \"\".join([f\"<th>{col}</th>\" for col in columns]) + \"</tr>\"\n",
    "    # Add the rows\n",
    "    for row in rows:\n",
    "        html += \"<tr>\" + \"\".join([f\"<td>{cell}</td>\" for cell in row]) + \"</tr>\"\n",
    "    html += \"</table>\"\n",
    "    \n",
    "    # Display as HTML\n",
    "    from IPython.core.display import HTML\n",
    "    display(HTML(html))\n",
    "\n",
    "# Display the first 10 rows of the DataFrame\n",
    "display_spark_dataframe(df, 10)"
   ]
  },
  {
   "cell_type": "code",
   "execution_count": 6,
   "id": "cd434a71",
   "metadata": {},
   "outputs": [
    {
     "name": "stdout",
     "output_type": "stream",
     "text": [
      "DataFrame Summary:\n",
      "Total Rows     : 1000\n",
      "Total Columns  : 24\n",
      "\n",
      "DataFrame Schema:\n",
      "Column               Non-Null Count  Null Count Dtype     \n",
      "------------------------------------------------------------\n",
      "Diabetic             1000            0          int       \n",
      "AlcoholLevel         1000            0          double    \n",
      "HeartRate            1000            0          int       \n",
      "BloodOxygenLevel     1000            0          double    \n",
      "BodyTemperature      1000            0          double    \n",
      "Weight               1000            0          double    \n",
      "MRI_Delay            1000            0          double    \n",
      "Prescription         485             515        string    \n",
      "Dosage in mg         485             515        double    \n",
      "Age                  1000            0          int       \n",
      "Education_Level      845             155        string    \n",
      "Dominant_Hand        1000            0          string    \n",
      "Gender               1000            0          string    \n",
      "Family_History       1000            0          string    \n",
      "Smoking_Status       1000            0          string    \n",
      "APOE_ε4              1000            0          string    \n",
      "Physical_Activity    1000            0          string    \n",
      "Depression_Status    1000            0          string    \n",
      "Cognitive_Test_Scores 1000            0          int       \n",
      "Medication_History   1000            0          string    \n",
      "Nutrition_Diet       1000            0          string    \n",
      "Sleep_Quality        1000            0          string    \n",
      "Chronic_Health_Conditions 1000            0          string    \n",
      "Dementia             1000            0          int       \n"
     ]
    }
   ],
   "source": [
    "def spark_info(df):\n",
    "    # Get the schema of the DataFrame\n",
    "    schema = df.schema\n",
    "    \n",
    "    # Create a list to hold column information\n",
    "    columns_info = []\n",
    "    \n",
    "    # Iterate through the schema to get column information\n",
    "    for field in schema:\n",
    "        column_name = field.name\n",
    "        column_type = field.dataType.simpleString()\n",
    "        \n",
    "        # Count non-null values\n",
    "        non_null_count = df.filter(col(column_name).isNotNull()).count()\n",
    "        \n",
    "        # Count null values\n",
    "        null_count = df.filter(col(column_name).isNull() | isnan(col(column_name))).count()\n",
    "        \n",
    "        columns_info.append((column_name, column_type, non_null_count, null_count))\n",
    "    \n",
    "    # Display the DataFrame schema and summary\n",
    "    total_rows = df.count()\n",
    "    total_columns = len(schema)\n",
    "    \n",
    "    # Print the summary table\n",
    "    print(f\"DataFrame Summary:\")\n",
    "    print(f\"{'Total Rows':<15}: {total_rows}\")\n",
    "    print(f\"{'Total Columns':<15}: {total_columns}\")\n",
    "    print(\"\\nDataFrame Schema:\")\n",
    "    print(f\"{'Column':<20} {'Non-Null Count':<15} {'Null Count':<10} {'Dtype':<10}\")\n",
    "    print(\"-\" * 60)\n",
    "    for column_info in columns_info:\n",
    "        print(f\"{column_info[0]:<20} {column_info[2]:<15} {column_info[3]:<10} {column_info[1]:<10}\")\n",
    "\n",
    "# Call the function to describe the DataFrame\n",
    "spark_info(df)"
   ]
  },
  {
   "cell_type": "code",
   "execution_count": 7,
   "id": "3eb68165",
   "metadata": {},
   "outputs": [
    {
     "name": "stdout",
     "output_type": "stream",
     "text": [
      "root\n",
      " |-- Diabetic: integer (nullable = true)\n",
      " |-- AlcoholLevel: double (nullable = true)\n",
      " |-- HeartRate: integer (nullable = true)\n",
      " |-- BloodOxygenLevel: double (nullable = true)\n",
      " |-- BodyTemperature: double (nullable = true)\n",
      " |-- Weight: double (nullable = true)\n",
      " |-- MRI_Delay: double (nullable = true)\n",
      " |-- Prescription: string (nullable = true)\n",
      " |-- Dosage in mg: double (nullable = true)\n",
      " |-- Age: integer (nullable = true)\n",
      " |-- Education_Level: string (nullable = true)\n",
      " |-- Dominant_Hand: string (nullable = true)\n",
      " |-- Gender: string (nullable = true)\n",
      " |-- Family_History: string (nullable = true)\n",
      " |-- Smoking_Status: string (nullable = true)\n",
      " |-- APOE_ε4: string (nullable = true)\n",
      " |-- Physical_Activity: string (nullable = true)\n",
      " |-- Depression_Status: string (nullable = true)\n",
      " |-- Cognitive_Test_Scores: integer (nullable = true)\n",
      " |-- Medication_History: string (nullable = true)\n",
      " |-- Nutrition_Diet: string (nullable = true)\n",
      " |-- Sleep_Quality: string (nullable = true)\n",
      " |-- Chronic_Health_Conditions: string (nullable = true)\n",
      " |-- Dementia: integer (nullable = true)\n",
      "\n"
     ]
    }
   ],
   "source": [
    "# Show columns and their data types\n",
    "df.printSchema()"
   ]
  },
  {
   "cell_type": "markdown",
   "id": "c9a70695",
   "metadata": {},
   "source": [
    "# 2.3 Explore Data"
   ]
  },
  {
   "cell_type": "code",
   "execution_count": 8,
   "id": "81b284db",
   "metadata": {
    "scrolled": true
   },
   "outputs": [
    {
     "name": "stdout",
     "output_type": "stream",
     "text": [
      "+--------+-----+\n",
      "|dementia|count|\n",
      "+--------+-----+\n",
      "|       1|  485|\n",
      "|       0|  515|\n",
      "+--------+-----+\n",
      "\n"
     ]
    }
   ],
   "source": [
    "# Group by the 'dementia' column and count the occurrences of each value\n",
    "dementia_counts = df.groupBy('dementia').count()\n",
    "\n",
    "# Show the counts\n",
    "dementia_counts.show()\n"
   ]
  },
  {
   "cell_type": "code",
   "execution_count": 9,
   "id": "213a394f",
   "metadata": {},
   "outputs": [
    {
     "data": {
      "image/png": "[encoded data removed]",
      "text/plain": [
       "<Figure size 576x432 with 1 Axes>"
      ]
     },
     "metadata": {
      "needs_background": "light"
     },
     "output_type": "display_data"
    }
   ],
   "source": [
    "# Import matplotlib for plotting\n",
    "import matplotlib.pyplot as plt\n",
    "\n",
    "# Plot the histogram without using Pandas\n",
    "plt.figure(figsize=(8, 6))\n",
    "\n",
    "# Extract values from the PySpark DataFrame\n",
    "dementia_counts_list = dementia_counts.collect()\n",
    "dementia_values = [row['dementia'] for row in dementia_counts_list]\n",
    "count_values = [row['count'] for row in dementia_counts_list]\n",
    "\n",
    "# Plot the histogram\n",
    "plt.bar(dementia_values, count_values, color='skyblue', width=0.4)\n",
    "\n",
    "# Set x-axis ticks and labels\n",
    "plt.xticks([0, 1], ['No Dementia', 'Dementia'])\n",
    "\n",
    "# Set axis labels and title\n",
    "plt.xlabel('Dementia')\n",
    "plt.ylabel('Count')\n",
    "plt.title('Histogram of Dementia')\n",
    "\n",
    "# Add horizontal grid lines\n",
    "plt.grid(axis='y', linestyle='--', alpha=0.7)\n",
    "\n",
    "# Show plot\n",
    "plt.show()\n",
    "\n"
   ]
  },
  {
   "cell_type": "code",
   "execution_count": 10,
   "id": "b64e3f9f",
   "metadata": {},
   "outputs": [
    {
     "name": "stdout",
     "output_type": "stream",
     "text": [
      "+-------------+--------+-----+\n",
      "|sleep_quality|dementia|count|\n",
      "+-------------+--------+-----+\n",
      "|         Poor|       1|  264|\n",
      "|         Poor|       0|  270|\n",
      "|         Good|       1|  221|\n",
      "|         Good|       0|  245|\n",
      "+-------------+--------+-----+\n",
      "\n"
     ]
    }
   ],
   "source": [
    "# Group by 'sleep_quality' and 'dementia' columns and count the occurrences of each combination\n",
    "sleep_dementia_counts = df.groupBy('sleep_quality', 'dementia').count()\n",
    "\n",
    "# Show the counts\n",
    "sleep_dementia_counts.show()"
   ]
  },
  {
   "cell_type": "code",
   "execution_count": 11,
   "id": "59b6bdbe",
   "metadata": {},
   "outputs": [
    {
     "data": {
      "image/png": "[encoded data removed]",
      "text/plain": [
       "<Figure size 720x432 with 1 Axes>"
      ]
     },
     "metadata": {
      "needs_background": "light"
     },
     "output_type": "display_data"
    }
   ],
   "source": [
    "# Convert 'sleep_quality' and 'dementia' columns to strings for plotting\n",
    "sleep_dementia_counts = sleep_dementia_counts.withColumn('sleep_quality', sleep_dementia_counts['sleep_quality'].cast('string'))\n",
    "sleep_dementia_counts = sleep_dementia_counts.withColumn('dementia', sleep_dementia_counts['dementia'].cast('string'))\n",
    "\n",
    "# Plot the histogram\n",
    "plt.figure(figsize=(10, 6))\n",
    "\n",
    "# Extract values from the PySpark DataFrame\n",
    "sleep_dementia_counts_pd = sleep_dementia_counts.toPandas()\n",
    "\n",
    "# Filter the DataFrame for 'dementia' values 0 and 1\n",
    "dementia_0_counts = sleep_dementia_counts_pd[sleep_dementia_counts_pd['dementia'] == '0']\n",
    "dementia_1_counts = sleep_dementia_counts_pd[sleep_dementia_counts_pd['dementia'] == '1']\n",
    "\n",
    "# Plot bars for 'dementia' values 0 and 1\n",
    "plt.bar(dementia_0_counts['sleep_quality'], dementia_0_counts['count'], color='lightgreen', label='No Dementia')\n",
    "plt.bar(dementia_1_counts['sleep_quality'], dementia_1_counts['count'], color='lightcoral', label='Dementia')\n",
    "\n",
    "# Set axis labels and title\n",
    "plt.xlabel('Sleep Quality')\n",
    "plt.ylabel('Count')\n",
    "plt.title('Relationship between Sleep Quality and Dementia')\n",
    "\n",
    "# Add legend\n",
    "plt.legend()\n",
    "\n",
    "# Show plot\n",
    "plt.show()"
   ]
  },
  {
   "cell_type": "code",
   "execution_count": 12,
   "id": "9774fd33",
   "metadata": {},
   "outputs": [],
   "source": [
    "# Replace null values in 'education_level' column with 'Unknown'\n",
    "df = df.withColumn('education_level', when(df['education_level'].isNull(), 'Unknown').otherwise(df['education_level']))"
   ]
  },
  {
   "cell_type": "code",
   "execution_count": 13,
   "id": "c9d25475",
   "metadata": {},
   "outputs": [],
   "source": [
    "# Group by 'education_level' and 'dementia' columns and count the occurrences of each combination\n",
    "education_dementia_counts = df.groupBy('education_level', 'dementia').count()"
   ]
  },
  {
   "cell_type": "code",
   "execution_count": 14,
   "id": "44fdbbca",
   "metadata": {},
   "outputs": [
    {
     "name": "stdout",
     "output_type": "stream",
     "text": [
      "+----------------+--------+-----+\n",
      "| education_level|dementia|count|\n",
      "+----------------+--------+-----+\n",
      "|  Primary School|       1|  181|\n",
      "|  Primary School|       0|  208|\n",
      "|         Unknown|       0|   57|\n",
      "|Secondary School|       1|  155|\n",
      "|         Unknown|       1|   98|\n",
      "|  Diploma/Degree|       1|   51|\n",
      "|  Diploma/Degree|       0|  101|\n",
      "|Secondary School|       0|  149|\n",
      "+----------------+--------+-----+\n",
      "\n"
     ]
    }
   ],
   "source": [
    "# Convert 'education_level' and 'dementia' columns to strings for plotting\n",
    "education_dementia_counts = education_dementia_counts.withColumn('education_level', education_dementia_counts['education_level'].cast('string'))\n",
    "education_dementia_counts = education_dementia_counts.withColumn('dementia', education_dementia_counts['dementia'].cast('string'))\n",
    "\n",
    "# Show the counts\n",
    "education_dementia_counts.show()\n"
   ]
  },
  {
   "cell_type": "code",
   "execution_count": 15,
   "id": "67ec6186",
   "metadata": {},
   "outputs": [
    {
     "data": {
      "image/png": "[encoded data removed]",
      "text/plain": [
       "<Figure size 720x432 with 1 Axes>"
      ]
     },
     "metadata": {
      "needs_background": "light"
     },
     "output_type": "display_data"
    }
   ],
   "source": [
    "# Plot the histogram\n",
    "plt.figure(figsize=(10, 6))\n",
    "\n",
    "# Extract values from the PySpark DataFrame\n",
    "education_dementia_counts_pd = education_dementia_counts.toPandas()\n",
    "\n",
    "# Filter the DataFrame for 'dementia' values 0 and 1\n",
    "dementia_0_counts = education_dementia_counts_pd[education_dementia_counts_pd['dementia'] == '0']\n",
    "dementia_1_counts = education_dementia_counts_pd[education_dementia_counts_pd['dementia'] == '1']\n",
    "\n",
    "# Plot bars for 'dementia' values 0 and 1\n",
    "plt.bar(dementia_0_counts['education_level'], dementia_0_counts['count'], color='lightblue', label='No Dementia')\n",
    "plt.bar(dementia_1_counts['education_level'], dementia_1_counts['count'], color='lightcoral', label='Dementia')\n",
    "\n",
    "# Set axis labels and title\n",
    "plt.xlabel('Education Level')\n",
    "plt.ylabel('Count of Dementia')\n",
    "plt.title('Relationship between Education Level and Dementia')\n",
    "\n",
    "# Rotate x-axis labels for better readability\n",
    "plt.xticks(rotation=45, ha='right')\n",
    "\n",
    "# Add legend\n",
    "plt.legend()\n",
    "\n",
    "# Show plot\n",
    "plt.show()\n"
   ]
  },
  {
   "cell_type": "markdown",
   "id": "80b221f3",
   "metadata": {},
   "source": [
    "# 2.4 Verify Data Quality"
   ]
  },
  {
   "cell_type": "code",
   "execution_count": 16,
   "id": "1f1911c0",
   "metadata": {},
   "outputs": [],
   "source": [
    "from pyspark.sql.functions import col\n",
    "from pyspark.sql import functions as F\n",
    "\n",
    "# we use Z-score to find outliers and extreme values"
   ]
  },
  {
   "cell_type": "code",
   "execution_count": 17,
   "id": "277d97b6",
   "metadata": {},
   "outputs": [],
   "source": [
    "def count_outliers_iqr(df):\n",
    "    # Define an empty dictionary to store the results\n",
    "    results = {}\n",
    "    \n",
    "    # Loop through each numerical column in the DataFrame\n",
    "    for column in df.columns:\n",
    "        if df.select(column).dtypes[0][1] in ['int', 'bigint', 'float', 'double']:\n",
    "            # Calculate quartiles for the column\n",
    "            quartiles = df.approxQuantile(column, [0.25, 0.75], 0.01)\n",
    "            q1 = quartiles[0]\n",
    "            q3 = quartiles[1]\n",
    "            \n",
    "            # Calculate IQR for the column\n",
    "            iqr = q3 - q1\n",
    "            \n",
    "            # Calculate lower and upper bounds for outliers\n",
    "            lower_bound = q1 - 1.5 * iqr\n",
    "            upper_bound = q3 + 1.5 * iqr\n",
    "            \n",
    "            # Count the number of values less than the lower bound or greater than the upper bound\n",
    "            count_outliers = df.filter((col(column) < lower_bound) | (col(column) > upper_bound)).count()\n",
    "            \n",
    "            # Count the number of values less than the lower bound or greater than the upper bound by 3*IQR\n",
    "            count_extremes = df.filter((col(column) < (q1 - 3 * iqr)) | (col(column) > (q3 + 3 * iqr))).count()\n",
    "            \n",
    "            # Add the counts to the dictionary\n",
    "            results[column] = (count_outliers, count_extremes)\n",
    "    \n",
    "    # Return the dictionary containing counts of outliers and extreme values for each column\n",
    "    return results\n"
   ]
  },
  {
   "cell_type": "code",
   "execution_count": 18,
   "id": "c829ec7a",
   "metadata": {},
   "outputs": [],
   "source": [
    "# Count outliers and extreme values for each column using IQR method\n",
    "outlier_counts_iqr = count_outliers_iqr(df)\n"
   ]
  },
  {
   "cell_type": "code",
   "execution_count": 24,
   "id": "d39d0145",
   "metadata": {},
   "outputs": [
    {
     "name": "stdout",
     "output_type": "stream",
     "text": [
      "Column Name            | Outliers   | Extreme Values\n",
      "-------------------------------------------------\n",
      "Diabetic               | 0          | 0            \n",
      "AlcoholLevel           | 0          | 0            \n",
      "HeartRate              | 9          | 6            \n",
      "BloodOxygenLevel       | 0          | 0            \n",
      "BodyTemperature        | 20         | 20           \n",
      "Weight                 | 10         | 8            \n",
      "MRI_Delay              | 0          | 0            \n",
      "Dosage in mg           | 0          | 0            \n",
      "Age                    | 11         | 6            \n",
      "Cognitive_Test_Scores  | 0          | 0            \n",
      "Dementia               | 0          | 0            \n"
     ]
    }
   ],
   "source": [
    "# Display the header of the table\n",
    "print(\"Column Name            | Outliers   | Extreme Values\")\n",
    "print(\"-------------------------------------------------\")\n",
    "\n",
    "# Display the counts of outliers and extreme values for each column using IQR method\n",
    "for column, (outliers, extremes) in outlier_counts_iqr.items():\n",
    "    print(f\"{column: <22} | {outliers: <10} | {extremes: <13}\")\n"
   ]
  },
  {
   "cell_type": "code",
   "execution_count": 40,
   "id": "6b582064",
   "metadata": {},
   "outputs": [
    {
     "name": "stdout",
     "output_type": "stream",
     "text": [
      "Column Name               | Missing Values\n",
      "-------------------------------------\n",
      "Diabetic                  | 0            \n",
      "AlcoholLevel              | 0            \n",
      "HeartRate                 | 0            \n",
      "BloodOxygenLevel          | 0            \n",
      "BodyTemperature           | 0            \n",
      "Weight                    | 0            \n",
      "MRI_Delay                 | 0            \n",
      "Prescription              | 515          \n",
      "Dosage in mg              | 515          \n",
      "Age                       | 0            \n",
      "education_level           | 155          \n",
      "Dominant_Hand             | 0            \n",
      "Gender                    | 0            \n",
      "Family_History            | 0            \n",
      "Smoking_Status            | 0            \n",
      "APOE_ε4                   | 0            \n",
      "Physical_Activity         | 0            \n",
      "Depression_Status         | 0            \n",
      "Cognitive_Test_Scores     | 0            \n",
      "Medication_History        | 0            \n",
      "Nutrition_Diet            | 0            \n",
      "Sleep_Quality             | 0            \n",
      "Chronic_Health_Conditions | 179          \n",
      "Dementia                  | 0            \n"
     ]
    }
   ],
   "source": [
    "# Display the header of the table\n",
    "print(\"Column Name               | Missing Values\")\n",
    "print(\"-------------------------------------\")\n",
    "\n",
    "# Loop through each column in the DataFrame\n",
    "for column in df.columns:\n",
    "    # Count the number of null values, empty strings, \"Unknown\", and \"None\" for the column\n",
    "    count_missing = df.filter(\n",
    "        (col(column).isNull()) |\n",
    "        (col(column) == \"\") |\n",
    "        (col(column) == \"Unknown\") |\n",
    "        (col(column) == \"None\")\n",
    "    ).count()\n",
    "    \n",
    "    # Add the count to the dictionary\n",
    "    null_counts[column] = count_missing\n",
    "\n",
    "# Display the counts of null values, empty strings, \"Unknown\", and \"None\" for each column\n",
    "for column, count in null_counts.items():\n",
    "    print(f\"{column: <25} | {count: <13}\")\n"
   ]
  },
  {
   "cell_type": "code",
   "execution_count": null,
   "id": "aa6a14e8",
   "metadata": {},
   "outputs": [],
   "source": [
    "# Finish"
   ]
  }
 ],
 "metadata": {
  "kernelspec": {
   "display_name": "Python 3 (ipykernel)",
   "language": "python",
   "name": "python3"
  },
  "language_info": {
   "codemirror_mode": {
    "name": "ipython",
    "version": 3
   },
   "file_extension": ".py",
   "mimetype": "text/x-python",
   "name": "python",
   "nbconvert_exporter": "python",
   "pygments_lexer": "ipython3",
   "version": "3.10.4"
  }
 },
 "nbformat": 4,
 "nbformat_minor": 5
}
