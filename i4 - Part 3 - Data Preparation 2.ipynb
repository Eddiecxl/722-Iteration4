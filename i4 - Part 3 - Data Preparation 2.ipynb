{
 "cells": [
  {
   "cell_type": "code",
   "execution_count": 1,
   "id": "45231f73",
   "metadata": {},
   "outputs": [
    {
     "name": "stderr",
     "output_type": "stream",
     "text": [
      "WARNING: An illegal reflective access operation has occurred\n",
      "WARNING: Illegal reflective access by org.apache.spark.unsafe.Platform (file:/home/ubuntu/.local/lib/python3.10/site-packages/pyspark/jars/spark-unsafe_2.12-3.2.1.jar) to constructor java.nio.DirectByteBuffer(long,int)\n",
      "WARNING: Please consider reporting this to the maintainers of org.apache.spark.unsafe.Platform\n",
      "WARNING: Use --illegal-access=warn to enable warnings of further illegal reflective access operations\n",
      "WARNING: All illegal access operations will be denied in a future release\n",
      "Using Spark's default log4j profile: org/apache/spark/log4j-defaults.properties\n",
      "Setting default log level to \"WARN\".\n",
      "To adjust logging level use sc.setLogLevel(newLevel). For SparkR, use setLogLevel(newLevel).\n",
      "24/05/23 11:48:49 WARN NativeCodeLoader: Unable to load native-hadoop library for your platform... using builtin-java classes where applicable\n",
      "24/05/23 11:48:50 WARN Utils: Service 'SparkUI' could not bind on port 4040. Attempting port 4041.\n"
     ]
    }
   ],
   "source": [
    "import pyspark\n",
    "from pyspark.sql.functions import col, count, isnan, when\n",
    "from pyspark.sql import SparkSession\n",
    "spark = SparkSession.builder \\\n",
    "    .appName(\"PySpark in Jupyter\") \\\n",
    "    .getOrCreate()"
   ]
  },
  {
   "cell_type": "code",
   "execution_count": 2,
   "id": "7c59410d",
   "metadata": {},
   "outputs": [],
   "source": [
    "df = spark.read.csv('Dataset/df_new_2.csv', header=True, inferSchema=True)"
   ]
  },
  {
   "cell_type": "code",
   "execution_count": 3,
   "id": "af37decc",
   "metadata": {},
   "outputs": [],
   "source": [
    "# Create a new DataFrame df_coerce\n",
    "df_coerce = df"
   ]
  },
  {
   "cell_type": "code",
   "execution_count": 4,
   "id": "d8f0c987",
   "metadata": {},
   "outputs": [],
   "source": [
    "from pyspark.sql.functions import col\n",
    "from pyspark.sql import functions as F\n",
    "\n",
    "# we use Z-score to find outliers and extreme values"
   ]
  },
  {
   "cell_type": "code",
   "execution_count": 5,
   "id": "3ad8143f",
   "metadata": {},
   "outputs": [],
   "source": [
    "def count_outliers_iqr(df):\n",
    "    # Define an empty dictionary to store the results\n",
    "    results = {}\n",
    "    \n",
    "    # Loop through each numerical column in the DataFrame\n",
    "    for column in df.columns:\n",
    "        if df.select(column).dtypes[0][1] in ['int', 'bigint', 'float', 'double']:\n",
    "            # Calculate quartiles for the column\n",
    "            quartiles = df.approxQuantile(column, [0.25, 0.75], 0.01)\n",
    "            q1 = quartiles[0]\n",
    "            q3 = quartiles[1]\n",
    "            \n",
    "            # Calculate IQR for the column\n",
    "            iqr = q3 - q1\n",
    "            \n",
    "            # Calculate lower and upper bounds for outliers\n",
    "            lower_bound = q1 - 1.5 * iqr\n",
    "            upper_bound = q3 + 1.5 * iqr\n",
    "            \n",
    "            # Count the number of values less than the lower bound or greater than the upper bound\n",
    "            count_outliers = df.filter((col(column) < lower_bound) | (col(column) > upper_bound)).count()\n",
    "            \n",
    "            # Count the number of values less than the lower bound or greater than the upper bound by 3*IQR\n",
    "            count_extremes = df.filter((col(column) < (q1 - 3 * iqr)) | (col(column) > (q3 + 3 * iqr))).count()\n",
    "            \n",
    "            # Add the counts to the dictionary\n",
    "            results[column] = (count_outliers, count_extremes)\n",
    "    \n",
    "    # Return the dictionary containing counts of outliers and extreme values for each column\n",
    "    return results\n",
    "\n",
    "\n"
   ]
  },
  {
   "cell_type": "code",
   "execution_count": 6,
   "id": "407825b6",
   "metadata": {},
   "outputs": [
    {
     "name": "stdout",
     "output_type": "stream",
     "text": [
      "Column Name            | Outliers   | Extreme Values\n",
      "-------------------------------------------------\n",
      "Diabetic               | 0          | 0            \n",
      "AlcoholLevel           | 0          | 0            \n",
      "HeartRate              | 9          | 6            \n",
      "BodyTemperature        | 20         | 20           \n",
      "Weight                 | 10         | 8            \n",
      "MRI_Delay              | 0          | 0            \n",
      "Age                    | 11         | 6            \n",
      "Cognitive_Test_Scores  | 0          | 0            \n",
      "Dementia               | 0          | 0            \n"
     ]
    }
   ],
   "source": [
    "# Count outliers and extreme values for each column using IQR method for df_new_2\n",
    "outlier_counts_iqr_2 = count_outliers_iqr(df)\n",
    "\n",
    "# Display the header of the table\n",
    "print(\"Column Name            | Outliers   | Extreme Values\")\n",
    "print(\"-------------------------------------------------\")\n",
    "\n",
    "# Display the counts of outliers and extreme values for each column using IQR method for df_new_2\n",
    "for column, (outliers, extremes) in outlier_counts_iqr_2.items():\n",
    "    print(f\"{column: <22} | {outliers: <10} | {extremes: <13}\")"
   ]
  },
  {
   "cell_type": "code",
   "execution_count": 7,
   "id": "95dfd969",
   "metadata": {},
   "outputs": [],
   "source": [
    "from pyspark.sql.functions import col, when\n",
    "\n",
    "\n",
    "def calculate_quartiles(df):\n",
    "    quartiles_dict = {}\n",
    "    for column in df.columns:\n",
    "        if df.select(column).dtypes[0][1] in ['int', 'bigint', 'float', 'double']:\n",
    "            quartiles = df.approxQuantile(column, [0.25, 0.75], 0.01)\n",
    "            quartiles_dict[column] = (quartiles[0], quartiles[1])\n",
    "    return quartiles_dict\n",
    "\n",
    "def coerce_outliers_extremes(df, quartiles_dict):\n",
    "    for column in quartiles_dict:\n",
    "        q1, q3 = quartiles_dict[column]\n",
    "        iqr = q3 - q1\n",
    "        lower_bound = q1 - 1.5 * iqr\n",
    "        upper_bound = q3 + 1.5 * iqr\n",
    "        lower_bound_extreme = q1 - 3 * iqr\n",
    "        upper_bound_extreme = q3 + 3 * iqr\n",
    "        \n",
    "        # Handle outliers and extreme values differently\n",
    "        df = df.withColumn(column,\n",
    "                           when((col(column) < lower_bound) | (col(column) > upper_bound), \n",
    "                                when(col(column) < lower_bound, lower_bound).otherwise(upper_bound)).otherwise(col(column)))\n",
    "        \n",
    "        df = df.withColumn(column,\n",
    "                           when((col(column) < lower_bound_extreme) | (col(column) > upper_bound_extreme), \n",
    "                                when(col(column) < lower_bound_extreme, lower_bound_extreme + (upper_bound_extreme - lower_bound_extreme) * 0.2).otherwise(upper_bound_extreme)).otherwise(col(column)))\n",
    "    return df\n",
    "\n",
    "\n",
    "# Calculate quartiles\n",
    "quartiles_dict = calculate_quartiles(df_coerce)\n",
    "\n",
    "# Coerce outliers and extremes\n",
    "df_coerce_coerced = coerce_outliers_extremes(df_coerce, quartiles_dict)\n"
   ]
  },
  {
   "cell_type": "code",
   "execution_count": 8,
   "id": "74c79429",
   "metadata": {
    "scrolled": false
   },
   "outputs": [
    {
     "name": "stdout",
     "output_type": "stream",
     "text": [
      "Column Name            | Outliers   | Extreme Values\n",
      "-------------------------------------------------\n",
      "Diabetic               | 0          | 0            \n",
      "AlcoholLevel           | 0          | 0            \n",
      "HeartRate              | 0          | 0            \n",
      "BodyTemperature        | 0          | 0            \n",
      "Weight                 | 0          | 0            \n",
      "MRI_Delay              | 0          | 0            \n",
      "Age                    | 0          | 0            \n",
      "Cognitive_Test_Scores  | 0          | 0            \n",
      "Dementia               | 0          | 0            \n"
     ]
    }
   ],
   "source": [
    "# Count outliers and extreme values for each column using IQR method for df_coerce_coerced\n",
    "outlier_counts_iqr_coerce = count_outliers_iqr(df_coerce_coerced)\n",
    "\n",
    "# Display the header of the table\n",
    "print(\"Column Name            | Outliers   | Extreme Values\")\n",
    "print(\"-------------------------------------------------\")\n",
    "\n",
    "# Display the counts of outliers and extreme values for each column using IQR method for df_coerce_coerced\n",
    "for column, (outliers, extremes) in outlier_counts_iqr_coerce.items():\n",
    "    print(f\"{column: <22} | {outliers: <10} | {extremes: <13}\")\n"
   ]
  },
  {
   "cell_type": "code",
   "execution_count": 9,
   "id": "0cad3169",
   "metadata": {},
   "outputs": [
    {
     "name": "stdout",
     "output_type": "stream",
     "text": [
      "+-------+------------------+-----------------+-----------------+-----------------+\n",
      "|summary|         HeartRate|  BodyTemperature|           Weight|              Age|\n",
      "+-------+------------------+-----------------+-----------------+-----------------+\n",
      "|  count|              1000|             1000|             1000|             1000|\n",
      "|   mean|            79.775|37.40251280583999|78.45932607626995|           75.911|\n",
      "| stddev|16.623619332736162|13.48926851964244|51.26724143340815|14.35552716413298|\n",
      "|    min|                 1|      22.06352268|       40.1030454|               60|\n",
      "|    max|               320|       356.760164|      911.6282937|              251|\n",
      "+-------+------------------+-----------------+-----------------+-----------------+\n",
      "\n"
     ]
    }
   ],
   "source": [
    "# Before Coerce\n",
    "# Select only the 4 columns of interest\n",
    "selected_columns = [\"HeartRate\", \"BodyTemperature\", \"Weight\", \"Age\"]\n",
    "selected_df = df.select(selected_columns)\n",
    "\n",
    "# Compute summary statistics for the selected columns\n",
    "summary_stats = selected_df.describe()\n",
    "\n",
    "# Show the summary statistics\n",
    "summary_stats.show()"
   ]
  },
  {
   "cell_type": "code",
   "execution_count": 10,
   "id": "80c3ed05",
   "metadata": {
    "scrolled": true
   },
   "outputs": [
    {
     "name": "stdout",
     "output_type": "stream",
     "text": [
      "+-------+------------------+------------------+------------------+----------------+\n",
      "|summary|         HeartRate|   BodyTemperature|            Weight|             Age|\n",
      "+-------+------------------+------------------+------------------+----------------+\n",
      "|  count|              1000|              1000|              1000|            1000|\n",
      "|   mean|            79.319| 36.77309191878998| 74.81243313316996|          75.254|\n",
      "| stddev|12.881971284868797|0.4760653485348972|15.294019982884423|9.62112519667269|\n",
      "|    min|              35.0|       35.29124128|        40.1030454|            60.0|\n",
      "|    max|             123.0|38.230790559999996|      124.81816464|           107.0|\n",
      "+-------+------------------+------------------+------------------+----------------+\n",
      "\n"
     ]
    }
   ],
   "source": [
    "# After Coerce\n",
    "# Select only the 4 columns of interest\n",
    "selected_columns2 = [\"HeartRate\", \"BodyTemperature\", \"Weight\", \"Age\"]\n",
    "selected_df2 = df_coerce_coerced.select(selected_columns2)\n",
    "\n",
    "# Compute summary statistics for the selected columns\n",
    "summary_stats2 = selected_df2.describe()\n",
    "\n",
    "# Show the summary statistics\n",
    "summary_stats2.show()\n"
   ]
  },
  {
   "cell_type": "code",
   "execution_count": 11,
   "id": "60385b18",
   "metadata": {},
   "outputs": [
    {
     "data": {
      "image/png": "[encoded data removed]",
      "text/plain": [
       "<Figure size 720x360 with 2 Axes>"
      ]
     },
     "metadata": {
      "needs_background": "light"
     },
     "output_type": "display_data"
    },
    {
     "data": {
      "image/png": "[encoded data removed]",
      "text/plain": [
       "<Figure size 720x360 with 2 Axes>"
      ]
     },
     "metadata": {
      "needs_background": "light"
     },
     "output_type": "display_data"
    },
    {
     "data": {
      "image/png": "[encoded data removed]",
      "text/plain": [
       "<Figure size 720x360 with 2 Axes>"
      ]
     },
     "metadata": {
      "needs_background": "light"
     },
     "output_type": "display_data"
    },
    {
     "data": {
      "image/png": "[encoded data removed]",
      "text/plain": [
       "<Figure size 720x360 with 2 Axes>"
      ]
     },
     "metadata": {
      "needs_background": "light"
     },
     "output_type": "display_data"
    }
   ],
   "source": [
    "import matplotlib.pyplot as plt\n",
    "\n",
    "# Define the variables of interest\n",
    "variables = [\"HeartRate\", \"BodyTemperature\", \"Weight\", \"Age\"]\n",
    "\n",
    "# Plot histograms for each variable before and after coercion\n",
    "for variable in variables:\n",
    "    # Plot histogram before coercion\n",
    "    plt.figure(figsize=(10, 5))\n",
    "    plt.subplot(1, 2, 1)\n",
    "    plt.hist(df.select(variable).dropna().toPandas()[variable], bins=20, color='skyblue', edgecolor='black')\n",
    "    plt.title(f\"Histogram of {variable} (Before Coercion)\")\n",
    "    plt.xlabel(variable)\n",
    "    plt.ylabel(\"Frequency\")\n",
    "\n",
    "    # Plot histogram after coercion\n",
    "    plt.subplot(1, 2, 2)\n",
    "    plt.hist(df_coerce_coerced.select(variable).dropna().toPandas()[variable], bins=20, color='lightgreen', edgecolor='black')\n",
    "    plt.title(f\"Histogram of {variable} (After Coercion)\")\n",
    "    plt.xlabel(variable)\n",
    "    plt.ylabel(\"Frequency\")\n",
    "\n",
    "    plt.tight_layout()\n",
    "    plt.show()\n"
   ]
  },
  {
   "cell_type": "code",
   "execution_count": 12,
   "id": "ff9a4591",
   "metadata": {},
   "outputs": [],
   "source": [
    "df_new_3 = df_coerce_coerced"
   ]
  },
  {
   "cell_type": "code",
   "execution_count": 13,
   "id": "9eb76ba4",
   "metadata": {},
   "outputs": [],
   "source": [
    "from pyspark.sql.functions import col, isnan\n",
    "\n",
    "def spark_info(df):\n",
    "    # Get the schema of the DataFrame\n",
    "    schema = df.schema\n",
    "    \n",
    "    # Total rows in the DataFrame\n",
    "    total_rows = df.count()\n",
    "    \n",
    "    # Total columns in the DataFrame\n",
    "    total_columns = len(schema)\n",
    "    \n",
    "    # Create a list to hold column information\n",
    "    columns_info = []\n",
    "    \n",
    "    # Iterate through the schema to get column information\n",
    "    for field in schema:\n",
    "        column_name = field.name\n",
    "        column_type = field.dataType.simpleString()\n",
    "        \n",
    "        # Count non-null values\n",
    "        non_null_count = df.filter(col(column_name).isNotNull() & (~col(column_name).isin(\"Unknown\", \"None\"))).count()\n",
    "        \n",
    "        # Count null values\n",
    "        null_count = df.filter(col(column_name).isNull() | col(column_name).isin(\"Unknown\", \"None\") | isnan(col(column_name))).count()\n",
    "        \n",
    "        columns_info.append({\n",
    "            \"column_name\": column_name,\n",
    "            \"column_type\": column_type,\n",
    "            \"non_null_count\": non_null_count,\n",
    "            \"null_count\": null_count\n",
    "        })\n",
    "    \n",
    "    summary = {\n",
    "        \"total_rows\": total_rows,\n",
    "        \"total_columns\": total_columns,\n",
    "        \"columns_info\": columns_info\n",
    "    }\n",
    "    \n",
    "    return summary\n",
    "\n",
    "# Call the function to describe the DataFrame df_new_3\n",
    "summary_df_new_3 = spark_info(df_new_3)\n"
   ]
  },
  {
   "cell_type": "code",
   "execution_count": 14,
   "id": "14a0a1f8",
   "metadata": {},
   "outputs": [
    {
     "name": "stdout",
     "output_type": "stream",
     "text": [
      "DataFrame Schema and Summary:\n",
      "Column                    Non-Null Count  Null Count Dtype     \n",
      "------------------------------------------------------------\n",
      "Diabetic                  1000            0          double    \n",
      "AlcoholLevel              1000            0          double    \n",
      "HeartRate                 1000            0          double    \n",
      "BodyTemperature           1000            0          double    \n",
      "Weight                    1000            0          double    \n",
      "MRI_Delay                 1000            0          double    \n",
      "Age                       1000            0          double    \n",
      "Education_Level           1000            0          string    \n",
      "Gender                    1000            0          string    \n",
      "Family_History            1000            0          string    \n",
      "Smoking_Status            1000            0          string    \n",
      "APOE_ε4                   1000            0          string    \n",
      "Physical_Activity         1000            0          string    \n",
      "Depression_Status         1000            0          string    \n",
      "Cognitive_Test_Scores     1000            0          double    \n",
      "Nutrition_Diet            1000            0          string    \n",
      "Sleep_Quality             1000            0          string    \n",
      "Chronic_Health_Conditions 1000            0          string    \n",
      "Dementia                  1000            0          double    \n"
     ]
    }
   ],
   "source": [
    "columns_info = summary_df_new_3['columns_info']\n",
    "\n",
    "print(\"DataFrame Schema and Summary:\")\n",
    "print(f\"{'Column':<25} {'Non-Null Count':<15} {'Null Count':<10} {'Dtype':<10}\")\n",
    "print(\"-\" * 60)\n",
    "for column_info in columns_info:\n",
    "    print(f\"{column_info['column_name']:<25} {column_info['non_null_count']:<15} {column_info['null_count']:<10} {column_info['column_type']:<10}\")\n"
   ]
  },
  {
   "cell_type": "code",
   "execution_count": 15,
   "id": "d2630ab7",
   "metadata": {},
   "outputs": [],
   "source": [
    "# Save DataFrame to a CSV file\n",
    "#df_new_3.write.csv(\"Dataset/df_new_3.csv\", header=True)\n"
   ]
  },
  {
   "cell_type": "code",
   "execution_count": 16,
   "id": "417377b9",
   "metadata": {},
   "outputs": [],
   "source": [
    "# Continue in Part 3"
   ]
  }
 ],
 "metadata": {
  "kernelspec": {
   "display_name": "Python 3 (ipykernel)",
   "language": "python",
   "name": "python3"
  },
  "language_info": {
   "codemirror_mode": {
    "name": "ipython",
    "version": 3
   },
   "file_extension": ".py",
   "mimetype": "text/x-python",
   "name": "python",
   "nbconvert_exporter": "python",
   "pygments_lexer": "ipython3",
   "version": "3.10.12"
  }
 },
 "nbformat": 4,
 "nbformat_minor": 5
}
